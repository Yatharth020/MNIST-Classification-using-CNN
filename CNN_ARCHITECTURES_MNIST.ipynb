{
 "cells": [
  {
   "cell_type": "code",
   "execution_count": 1,
   "metadata": {
    "colab": {
     "base_uri": "https://localhost:8080/",
     "height": 34
    },
    "colab_type": "code",
    "id": "TMqsv8CDJ1ng",
    "outputId": "4f75aae0-c45e-43b8-928d-9823d39305c7"
   },
   "outputs": [
    {
     "name": "stderr",
     "output_type": "stream",
     "text": [
      "Using TensorFlow backend.\n"
     ]
    }
   ],
   "source": [
    "from keras.datasets import mnist\n",
    "from keras.models import Sequential\n",
    "from keras.layers import Dropout\n",
    "from keras.layers import BatchNormalization\n",
    "from keras.layers import Dense\n",
    "from keras.layers import Flatten\n",
    "from keras.layers import Conv2D, MaxPooling2D\n",
    "from keras import backend as K\n",
    "from keras.initializers import he_normal\n",
    "\n",
    "import numpy as np\n",
    "import pandas as pd\n",
    "import matplotlib.pyplot as plt\n",
    "import seaborn as sns\n",
    "\n",
    "%matplotlib inline"
   ]
  },
  {
   "cell_type": "code",
   "execution_count": 2,
   "metadata": {
    "colab": {
     "base_uri": "https://localhost:8080/",
     "height": 50
    },
    "colab_type": "code",
    "id": "GKweGcBNLFNT",
    "outputId": "84d5c01a-8b46-415b-bb25-f1e4e6392fd2"
   },
   "outputs": [
    {
     "name": "stdout",
     "output_type": "stream",
     "text": [
      "Downloading data from https://s3.amazonaws.com/img-datasets/mnist.npz\n",
      "11493376/11490434 [==============================] - 11s 1us/step\n"
     ]
    }
   ],
   "source": [
    "#getting the size of input image\n",
    "img_rows,img_cols = 28,28\n",
    "\n",
    "#splitting the dataset\n",
    "(X_train,Y_train),(X_test,Y_test) = mnist.load_data()"
   ]
  },
  {
   "cell_type": "code",
   "execution_count": 3,
   "metadata": {
    "colab": {
     "base_uri": "https://localhost:8080/",
     "height": 50
    },
    "colab_type": "code",
    "id": "7Nf2UV3QLt7b",
    "outputId": "ed58a725-afcd-4c3c-fd20-7c4d4fd052de"
   },
   "outputs": [
    {
     "name": "stdout",
     "output_type": "stream",
     "text": [
      "Number of images in training set are: 60000 And shape of each image is 28 x 28\n",
      "Number of images in test set are: 10000 And shape of each image is 28 x 28\n"
     ]
    }
   ],
   "source": [
    "print('Number of images in training set are:',X_train.shape[0],'And shape of each image is {} x {}'.format(X_train.shape[1],X_train.shape[2]))\n",
    "print('Number of images in test set are:',X_test.shape[0],'And shape of each image is {} x {}'.format(X_test.shape[1],X_test.shape[2]))"
   ]
  },
  {
   "cell_type": "code",
   "execution_count": 0,
   "metadata": {
    "colab": {},
    "colab_type": "code",
    "id": "jW6FeAW3Mcuh"
   },
   "outputs": [],
   "source": [
    "#as keras backend perceives incoming input to be of 4 dimensional tensor that's why we need to reshape the size \n",
    "\n",
    "if K.image_data_format() == 'channels_first':\n",
    "  X_train = X_train.reshape(X_train.shape[0],1,img_row,img_cols)\n",
    "  X_test = X_test.reshape(X_test.shape[0],1,img_rows,img_cols)\n",
    "  input_shape = (1,img_rows,img_cols)\n",
    "else:\n",
    "  X_train = X_train.reshape(X_train.shape[0], img_rows, img_cols, 1)\n",
    "  X_test =  X_test.reshape(X_test.shape[0], img_rows, img_cols, 1)\n",
    "  input_shape = (img_rows, img_cols, 1)\n"
   ]
  },
  {
   "cell_type": "code",
   "execution_count": 5,
   "metadata": {
    "colab": {
     "base_uri": "https://localhost:8080/",
     "height": 34
    },
    "colab_type": "code",
    "id": "sP5pHAcYLFZR",
    "outputId": "4e904c33-b02e-4f59-b5f0-80b24a33973c"
   },
   "outputs": [
    {
     "data": {
      "text/plain": [
       "(10000, 28, 28, 1)"
      ]
     },
     "execution_count": 5,
     "metadata": {
      "tags": []
     },
     "output_type": "execute_result"
    }
   ],
   "source": [
    "X_train.shape\n",
    "X_test.shape\n",
    "#backend percieves other than channels first"
   ]
  },
  {
   "cell_type": "code",
   "execution_count": 6,
   "metadata": {
    "colab": {
     "base_uri": "https://localhost:8080/",
     "height": 734
    },
    "colab_type": "code",
    "id": "QgBXSBY0LFiR",
    "outputId": "b1a0e3cf-24f6-4b90-987c-1b90698c8940"
   },
   "outputs": [
    {
     "name": "stdout",
     "output_type": "stream",
     "text": [
      "5\n",
      "0\n",
      "4\n",
      "1\n",
      "9\n",
      "2\n",
      "1\n",
      "3\n",
      "1\n"
     ]
    },
    {
     "data": {
      "image/png": "[encoded data removed]",
      "text/plain": [
       "<Figure size 720x720 with 9 Axes>"
      ]
     },
     "metadata": {
      "tags": []
     },
     "output_type": "display_data"
    }
   ],
   "source": [
    "#display a plot number\n",
    "plt.figure(figsize=(10,10))\n",
    "rows = 3\n",
    "cols= 3\n",
    "for i in range(rows*cols):\n",
    "    plt.subplot(rows,cols,i+1)\n",
    "    plt.imshow(X_train[i].reshape(28,28),cmap=\"afmhot\",interpolation=\"none\")\n",
    "    print(Y_train[i])\n",
    "    #reshaping from 1D to 2D array\n",
    "    plt.xticks([])\n",
    "    plt.yticks([])"
   ]
  },
  {
   "cell_type": "code",
   "execution_count": 7,
   "metadata": {
    "colab": {
     "base_uri": "https://localhost:8080/",
     "height": 67
    },
    "colab_type": "code",
    "id": "xSuqUbpDPu5R",
    "outputId": "92d1e5b6-e591-4b06-cf5c-28e32d331cbe"
   },
   "outputs": [
    {
     "name": "stdout",
     "output_type": "stream",
     "text": [
      "Shape of training data is (60000, 28, 28, 1)\n",
      "60000 train_samples\n",
      "10000 test_samples\n"
     ]
    }
   ],
   "source": [
    "X_train = X_train.astype('float32')\n",
    "X_test = X_test.astype('float32')\n",
    "X_train /= 255\n",
    "X_test /= 255\n",
    "print('Shape of training data is',X_train.shape)\n",
    "print(X_train.shape[0],'train_samples')\n",
    "print(X_test.shape[0],'test_samples')"
   ]
  },
  {
   "cell_type": "code",
   "execution_count": 8,
   "metadata": {
    "colab": {
     "base_uri": "https://localhost:8080/",
     "height": 34
    },
    "colab_type": "code",
    "id": "dZeu5oKfRRxD",
    "outputId": "aab700b1-e4c7-44ee-8eba-d30f740fbadd"
   },
   "outputs": [
    {
     "data": {
      "text/plain": [
       "(60000, 10)"
      ]
     },
     "execution_count": 8,
     "metadata": {
      "tags": []
     },
     "output_type": "execute_result"
    }
   ],
   "source": [
    "#converting the labels into vectos using one hot encoding\n",
    "\n",
    "from keras.utils import to_categorical\n",
    "\n",
    "num_classes = 10\n",
    "Y_train = to_categorical(Y_train,num_classes)\n",
    "Y_test = to_categorical(Y_test,num_classes)\n",
    "Y_train.shape"
   ]
  },
  {
   "cell_type": "code",
   "execution_count": 0,
   "metadata": {
    "colab": {},
    "colab_type": "code",
    "id": "HVmB8NDKmPK3"
   },
   "outputs": [],
   "source": [
    "def classifier_1(n_kernel):\n",
    "  model = Sequential()\n",
    "  model.add(Conv2D(64,kernel_size = (n_kernel,n_kernel),activation = 'relu',kernel_initializer = he_normal(seed  = None),input_shape = input_shape))\n",
    "  model.add(Conv2D(32,(n_kernel,n_kernel),activation = 'relu',kernel_initializer = he_normal(seed = None)))\n",
    "  model.add(MaxPooling2D(pool_size=(2, 2)))\n",
    "  model.add(BatchNormalization())\n",
    "  model.add(Dropout(0.3))\n",
    "\n",
    "  #adding a flattening layer\n",
    "  model.add(Flatten())\n",
    "  model.add(Dense(128,activation = 'relu',kernel_initializer = he_normal(seed = None)))\n",
    "  model.add(BatchNormalization())\n",
    "  model.add(Dropout(0.5))\n",
    "  \n",
    "  #addding the output layer\n",
    "  model.add(Dense(10,activation = 'softmax'))\n",
    "\n",
    "  model.compile(loss = 'categorical_crossentropy',optimizer ='adam', metrics = ['accuracy'])\n",
    "\n",
    "  return model\n",
    "\n",
    "\n"
   ]
  },
  {
   "cell_type": "code",
   "execution_count": 0,
   "metadata": {
    "colab": {},
    "colab_type": "code",
    "id": "vI4_436EL77D"
   },
   "outputs": [],
   "source": [
    "import warnings\n",
    "warnings.filterwarnings('ignore')"
   ]
  },
  {
   "cell_type": "code",
   "execution_count": 0,
   "metadata": {
    "colab": {
     "base_uri": "https://localhost:8080/",
     "height": 794
    },
    "colab_type": "code",
    "id": "HgRBnlQNXw3d",
    "outputId": "005d8924-80db-4029-96a2-d069eb21ff07"
   },
   "outputs": [
    {
     "name": "stdout",
     "output_type": "stream",
     "text": [
      "Fitting 5 folds for each of 5 candidates, totalling 25 fits\n",
      "WARNING:tensorflow:From /usr/local/lib/python3.6/dist-packages/keras/backend/tensorflow_backend.py:66: The name tf.get_default_graph is deprecated. Please use tf.compat.v1.get_default_graph instead.\n",
      "\n",
      "WARNING:tensorflow:From /usr/local/lib/python3.6/dist-packages/keras/backend/tensorflow_backend.py:541: The name tf.placeholder is deprecated. Please use tf.compat.v1.placeholder instead.\n",
      "\n",
      "WARNING:tensorflow:From /usr/local/lib/python3.6/dist-packages/keras/backend/tensorflow_backend.py:4479: The name tf.truncated_normal is deprecated. Please use tf.random.truncated_normal instead.\n",
      "\n"
     ]
    },
    {
     "name": "stderr",
     "output_type": "stream",
     "text": [
      "[Parallel(n_jobs=1)]: Using backend SequentialBackend with 1 concurrent workers.\n"
     ]
    },
    {
     "name": "stdout",
     "output_type": "stream",
     "text": [
      "WARNING:tensorflow:From /usr/local/lib/python3.6/dist-packages/keras/backend/tensorflow_backend.py:4267: The name tf.nn.max_pool is deprecated. Please use tf.nn.max_pool2d instead.\n",
      "\n",
      "WARNING:tensorflow:From /usr/local/lib/python3.6/dist-packages/keras/backend/tensorflow_backend.py:190: The name tf.get_default_session is deprecated. Please use tf.compat.v1.get_default_session instead.\n",
      "\n",
      "WARNING:tensorflow:From /usr/local/lib/python3.6/dist-packages/keras/backend/tensorflow_backend.py:197: The name tf.ConfigProto is deprecated. Please use tf.compat.v1.ConfigProto instead.\n",
      "\n",
      "WARNING:tensorflow:From /usr/local/lib/python3.6/dist-packages/keras/backend/tensorflow_backend.py:2041: The name tf.nn.fused_batch_norm is deprecated. Please use tf.compat.v1.nn.fused_batch_norm instead.\n",
      "\n",
      "WARNING:tensorflow:From /usr/local/lib/python3.6/dist-packages/keras/backend/tensorflow_backend.py:3733: calling dropout (from tensorflow.python.ops.nn_ops) with keep_prob is deprecated and will be removed in a future version.\n",
      "Instructions for updating:\n",
      "Please use `rate` instead of `keep_prob`. Rate should be set to `rate = 1 - keep_prob`.\n",
      "WARNING:tensorflow:From /usr/local/lib/python3.6/dist-packages/keras/optimizers.py:793: The name tf.train.Optimizer is deprecated. Please use tf.compat.v1.train.Optimizer instead.\n",
      "\n",
      "WARNING:tensorflow:From /usr/local/lib/python3.6/dist-packages/tensorflow/python/ops/math_grad.py:1250: add_dispatch_support.<locals>.wrapper (from tensorflow.python.ops.array_ops) is deprecated and will be removed in a future version.\n",
      "Instructions for updating:\n",
      "Use tf.where in 2.0, which has the same broadcast rule as np.where\n"
     ]
    },
    {
     "ename": "KeyboardInterrupt",
     "evalue": "ignored",
     "output_type": "error",
     "traceback": [
      "\u001b[0;31m---------------------------------------------------------------------------\u001b[0m",
      "\u001b[0;31mKeyboardInterrupt\u001b[0m                         Traceback (most recent call last)",
      "\u001b[0;32m<ipython-input-11-69dd2b72444a>\u001b[0m in \u001b[0;36m<module>\u001b[0;34m()\u001b[0m\n\u001b[1;32m     14\u001b[0m \u001b[0mparam_grid\u001b[0m \u001b[0;34m=\u001b[0m \u001b[0mdict\u001b[0m\u001b[0;34m(\u001b[0m\u001b[0mn_kernel\u001b[0m \u001b[0;34m=\u001b[0m \u001b[0mn_kernel\u001b[0m\u001b[0;34m)\u001b[0m\u001b[0;34m\u001b[0m\u001b[0;34m\u001b[0m\u001b[0m\n\u001b[1;32m     15\u001b[0m \u001b[0mgrid\u001b[0m \u001b[0;34m=\u001b[0m \u001b[0mGridSearchCV\u001b[0m\u001b[0;34m(\u001b[0m\u001b[0mestimator\u001b[0m \u001b[0;34m=\u001b[0m \u001b[0mmodel_gs\u001b[0m\u001b[0;34m,\u001b[0m\u001b[0mparam_grid\u001b[0m \u001b[0;34m=\u001b[0m \u001b[0mparam_grid\u001b[0m\u001b[0;34m,\u001b[0m\u001b[0mcv\u001b[0m \u001b[0;34m=\u001b[0m \u001b[0;36m5\u001b[0m\u001b[0;34m,\u001b[0m\u001b[0mverbose\u001b[0m \u001b[0;34m=\u001b[0m \u001b[0;36m1\u001b[0m\u001b[0;34m)\u001b[0m\u001b[0;34m\u001b[0m\u001b[0;34m\u001b[0m\u001b[0m\n\u001b[0;32m---> 16\u001b[0;31m \u001b[0mgrid_result\u001b[0m \u001b[0;34m=\u001b[0m \u001b[0mgrid\u001b[0m\u001b[0;34m.\u001b[0m\u001b[0mfit\u001b[0m\u001b[0;34m(\u001b[0m\u001b[0mX_train\u001b[0m\u001b[0;34m,\u001b[0m\u001b[0mY_train\u001b[0m\u001b[0;34m)\u001b[0m\u001b[0;34m\u001b[0m\u001b[0;34m\u001b[0m\u001b[0m\n\u001b[0m\u001b[1;32m     17\u001b[0m \u001b[0;34m\u001b[0m\u001b[0m\n\u001b[1;32m     18\u001b[0m \u001b[0mend_time\u001b[0m \u001b[0;34m=\u001b[0m \u001b[0mtime\u001b[0m\u001b[0;34m.\u001b[0m\u001b[0mtime\u001b[0m\u001b[0;34m(\u001b[0m\u001b[0;34m)\u001b[0m\u001b[0;34m\u001b[0m\u001b[0;34m\u001b[0m\u001b[0m\n",
      "\u001b[0;32m/usr/local/lib/python3.6/dist-packages/sklearn/model_selection/_search.py\u001b[0m in \u001b[0;36mfit\u001b[0;34m(self, X, y, groups, **fit_params)\u001b[0m\n\u001b[1;32m    686\u001b[0m                 \u001b[0;32mreturn\u001b[0m \u001b[0mresults\u001b[0m\u001b[0;34m\u001b[0m\u001b[0;34m\u001b[0m\u001b[0m\n\u001b[1;32m    687\u001b[0m \u001b[0;34m\u001b[0m\u001b[0m\n\u001b[0;32m--> 688\u001b[0;31m             \u001b[0mself\u001b[0m\u001b[0;34m.\u001b[0m\u001b[0m_run_search\u001b[0m\u001b[0;34m(\u001b[0m\u001b[0mevaluate_candidates\u001b[0m\u001b[0;34m)\u001b[0m\u001b[0;34m\u001b[0m\u001b[0;34m\u001b[0m\u001b[0m\n\u001b[0m\u001b[1;32m    689\u001b[0m \u001b[0;34m\u001b[0m\u001b[0m\n\u001b[1;32m    690\u001b[0m         \u001b[0;31m# For multi-metric evaluation, store the best_index_, best_params_ and\u001b[0m\u001b[0;34m\u001b[0m\u001b[0;34m\u001b[0m\u001b[0;34m\u001b[0m\u001b[0m\n",
      "\u001b[0;32m/usr/local/lib/python3.6/dist-packages/sklearn/model_selection/_search.py\u001b[0m in \u001b[0;36m_run_search\u001b[0;34m(self, evaluate_candidates)\u001b[0m\n\u001b[1;32m   1147\u001b[0m     \u001b[0;32mdef\u001b[0m \u001b[0m_run_search\u001b[0m\u001b[0;34m(\u001b[0m\u001b[0mself\u001b[0m\u001b[0;34m,\u001b[0m \u001b[0mevaluate_candidates\u001b[0m\u001b[0;34m)\u001b[0m\u001b[0;34m:\u001b[0m\u001b[0;34m\u001b[0m\u001b[0;34m\u001b[0m\u001b[0m\n\u001b[1;32m   1148\u001b[0m         \u001b[0;34m\"\"\"Search all candidates in param_grid\"\"\"\u001b[0m\u001b[0;34m\u001b[0m\u001b[0;34m\u001b[0m\u001b[0m\n\u001b[0;32m-> 1149\u001b[0;31m         \u001b[0mevaluate_candidates\u001b[0m\u001b[0;34m(\u001b[0m\u001b[0mParameterGrid\u001b[0m\u001b[0;34m(\u001b[0m\u001b[0mself\u001b[0m\u001b[0;34m.\u001b[0m\u001b[0mparam_grid\u001b[0m\u001b[0;34m)\u001b[0m\u001b[0;34m)\u001b[0m\u001b[0;34m\u001b[0m\u001b[0;34m\u001b[0m\u001b[0m\n\u001b[0m\u001b[1;32m   1150\u001b[0m \u001b[0;34m\u001b[0m\u001b[0m\n\u001b[1;32m   1151\u001b[0m \u001b[0;34m\u001b[0m\u001b[0m\n",
      "\u001b[0;32m/usr/local/lib/python3.6/dist-packages/sklearn/model_selection/_search.py\u001b[0m in \u001b[0;36mevaluate_candidates\u001b[0;34m(candidate_params)\u001b[0m\n\u001b[1;32m    665\u001b[0m                                \u001b[0;32mfor\u001b[0m \u001b[0mparameters\u001b[0m\u001b[0;34m,\u001b[0m \u001b[0;34m(\u001b[0m\u001b[0mtrain\u001b[0m\u001b[0;34m,\u001b[0m \u001b[0mtest\u001b[0m\u001b[0;34m)\u001b[0m\u001b[0;34m\u001b[0m\u001b[0;34m\u001b[0m\u001b[0m\n\u001b[1;32m    666\u001b[0m                                in product(candidate_params,\n\u001b[0;32m--> 667\u001b[0;31m                                           cv.split(X, y, groups)))\n\u001b[0m\u001b[1;32m    668\u001b[0m \u001b[0;34m\u001b[0m\u001b[0m\n\u001b[1;32m    669\u001b[0m                 \u001b[0;32mif\u001b[0m \u001b[0mlen\u001b[0m\u001b[0;34m(\u001b[0m\u001b[0mout\u001b[0m\u001b[0;34m)\u001b[0m \u001b[0;34m<\u001b[0m \u001b[0;36m1\u001b[0m\u001b[0;34m:\u001b[0m\u001b[0;34m\u001b[0m\u001b[0;34m\u001b[0m\u001b[0m\n",
      "\u001b[0;32m/usr/local/lib/python3.6/dist-packages/joblib/parallel.py\u001b[0m in \u001b[0;36m__call__\u001b[0;34m(self, iterable)\u001b[0m\n\u001b[1;32m    919\u001b[0m             \u001b[0;31m# remaining jobs.\u001b[0m\u001b[0;34m\u001b[0m\u001b[0;34m\u001b[0m\u001b[0;34m\u001b[0m\u001b[0m\n\u001b[1;32m    920\u001b[0m             \u001b[0mself\u001b[0m\u001b[0;34m.\u001b[0m\u001b[0m_iterating\u001b[0m \u001b[0;34m=\u001b[0m \u001b[0;32mFalse\u001b[0m\u001b[0;34m\u001b[0m\u001b[0;34m\u001b[0m\u001b[0m\n\u001b[0;32m--> 921\u001b[0;31m             \u001b[0;32mif\u001b[0m \u001b[0mself\u001b[0m\u001b[0;34m.\u001b[0m\u001b[0mdispatch_one_batch\u001b[0m\u001b[0;34m(\u001b[0m\u001b[0miterator\u001b[0m\u001b[0;34m)\u001b[0m\u001b[0;34m:\u001b[0m\u001b[0;34m\u001b[0m\u001b[0;34m\u001b[0m\u001b[0m\n\u001b[0m\u001b[1;32m    922\u001b[0m                 \u001b[0mself\u001b[0m\u001b[0;34m.\u001b[0m\u001b[0m_iterating\u001b[0m \u001b[0;34m=\u001b[0m \u001b[0mself\u001b[0m\u001b[0;34m.\u001b[0m\u001b[0m_original_iterator\u001b[0m \u001b[0;32mis\u001b[0m \u001b[0;32mnot\u001b[0m \u001b[0;32mNone\u001b[0m\u001b[0;34m\u001b[0m\u001b[0;34m\u001b[0m\u001b[0m\n\u001b[1;32m    923\u001b[0m \u001b[0;34m\u001b[0m\u001b[0m\n",
      "\u001b[0;32m/usr/local/lib/python3.6/dist-packages/joblib/parallel.py\u001b[0m in \u001b[0;36mdispatch_one_batch\u001b[0;34m(self, iterator)\u001b[0m\n\u001b[1;32m    757\u001b[0m                 \u001b[0;32mreturn\u001b[0m \u001b[0;32mFalse\u001b[0m\u001b[0;34m\u001b[0m\u001b[0;34m\u001b[0m\u001b[0m\n\u001b[1;32m    758\u001b[0m             \u001b[0;32melse\u001b[0m\u001b[0;34m:\u001b[0m\u001b[0;34m\u001b[0m\u001b[0;34m\u001b[0m\u001b[0m\n\u001b[0;32m--> 759\u001b[0;31m                 \u001b[0mself\u001b[0m\u001b[0;34m.\u001b[0m\u001b[0m_dispatch\u001b[0m\u001b[0;34m(\u001b[0m\u001b[0mtasks\u001b[0m\u001b[0;34m)\u001b[0m\u001b[0;34m\u001b[0m\u001b[0;34m\u001b[0m\u001b[0m\n\u001b[0m\u001b[1;32m    760\u001b[0m                 \u001b[0;32mreturn\u001b[0m \u001b[0;32mTrue\u001b[0m\u001b[0;34m\u001b[0m\u001b[0;34m\u001b[0m\u001b[0m\n\u001b[1;32m    761\u001b[0m \u001b[0;34m\u001b[0m\u001b[0m\n",
      "\u001b[0;32m/usr/local/lib/python3.6/dist-packages/joblib/parallel.py\u001b[0m in \u001b[0;36m_dispatch\u001b[0;34m(self, batch)\u001b[0m\n\u001b[1;32m    714\u001b[0m         \u001b[0;32mwith\u001b[0m \u001b[0mself\u001b[0m\u001b[0;34m.\u001b[0m\u001b[0m_lock\u001b[0m\u001b[0;34m:\u001b[0m\u001b[0;34m\u001b[0m\u001b[0;34m\u001b[0m\u001b[0m\n\u001b[1;32m    715\u001b[0m             \u001b[0mjob_idx\u001b[0m \u001b[0;34m=\u001b[0m \u001b[0mlen\u001b[0m\u001b[0;34m(\u001b[0m\u001b[0mself\u001b[0m\u001b[0;34m.\u001b[0m\u001b[0m_jobs\u001b[0m\u001b[0;34m)\u001b[0m\u001b[0;34m\u001b[0m\u001b[0;34m\u001b[0m\u001b[0m\n\u001b[0;32m--> 716\u001b[0;31m             \u001b[0mjob\u001b[0m \u001b[0;34m=\u001b[0m \u001b[0mself\u001b[0m\u001b[0;34m.\u001b[0m\u001b[0m_backend\u001b[0m\u001b[0;34m.\u001b[0m\u001b[0mapply_async\u001b[0m\u001b[0;34m(\u001b[0m\u001b[0mbatch\u001b[0m\u001b[0;34m,\u001b[0m \u001b[0mcallback\u001b[0m\u001b[0;34m=\u001b[0m\u001b[0mcb\u001b[0m\u001b[0;34m)\u001b[0m\u001b[0;34m\u001b[0m\u001b[0;34m\u001b[0m\u001b[0m\n\u001b[0m\u001b[1;32m    717\u001b[0m             \u001b[0;31m# A job can complete so quickly than its callback is\u001b[0m\u001b[0;34m\u001b[0m\u001b[0;34m\u001b[0m\u001b[0;34m\u001b[0m\u001b[0m\n\u001b[1;32m    718\u001b[0m             \u001b[0;31m# called before we get here, causing self._jobs to\u001b[0m\u001b[0;34m\u001b[0m\u001b[0;34m\u001b[0m\u001b[0;34m\u001b[0m\u001b[0m\n",
      "\u001b[0;32m/usr/local/lib/python3.6/dist-packages/joblib/_parallel_backends.py\u001b[0m in \u001b[0;36mapply_async\u001b[0;34m(self, func, callback)\u001b[0m\n\u001b[1;32m    180\u001b[0m     \u001b[0;32mdef\u001b[0m \u001b[0mapply_async\u001b[0m\u001b[0;34m(\u001b[0m\u001b[0mself\u001b[0m\u001b[0;34m,\u001b[0m \u001b[0mfunc\u001b[0m\u001b[0;34m,\u001b[0m \u001b[0mcallback\u001b[0m\u001b[0;34m=\u001b[0m\u001b[0;32mNone\u001b[0m\u001b[0;34m)\u001b[0m\u001b[0;34m:\u001b[0m\u001b[0;34m\u001b[0m\u001b[0;34m\u001b[0m\u001b[0m\n\u001b[1;32m    181\u001b[0m         \u001b[0;34m\"\"\"Schedule a func to be run\"\"\"\u001b[0m\u001b[0;34m\u001b[0m\u001b[0;34m\u001b[0m\u001b[0m\n\u001b[0;32m--> 182\u001b[0;31m         \u001b[0mresult\u001b[0m \u001b[0;34m=\u001b[0m \u001b[0mImmediateResult\u001b[0m\u001b[0;34m(\u001b[0m\u001b[0mfunc\u001b[0m\u001b[0;34m)\u001b[0m\u001b[0;34m\u001b[0m\u001b[0;34m\u001b[0m\u001b[0m\n\u001b[0m\u001b[1;32m    183\u001b[0m         \u001b[0;32mif\u001b[0m \u001b[0mcallback\u001b[0m\u001b[0;34m:\u001b[0m\u001b[0;34m\u001b[0m\u001b[0;34m\u001b[0m\u001b[0m\n\u001b[1;32m    184\u001b[0m             \u001b[0mcallback\u001b[0m\u001b[0;34m(\u001b[0m\u001b[0mresult\u001b[0m\u001b[0;34m)\u001b[0m\u001b[0;34m\u001b[0m\u001b[0;34m\u001b[0m\u001b[0m\n",
      "\u001b[0;32m/usr/local/lib/python3.6/dist-packages/joblib/_parallel_backends.py\u001b[0m in \u001b[0;36m__init__\u001b[0;34m(self, batch)\u001b[0m\n\u001b[1;32m    547\u001b[0m         \u001b[0;31m# Don't delay the application, to avoid keeping the input\u001b[0m\u001b[0;34m\u001b[0m\u001b[0;34m\u001b[0m\u001b[0;34m\u001b[0m\u001b[0m\n\u001b[1;32m    548\u001b[0m         \u001b[0;31m# arguments in memory\u001b[0m\u001b[0;34m\u001b[0m\u001b[0;34m\u001b[0m\u001b[0;34m\u001b[0m\u001b[0m\n\u001b[0;32m--> 549\u001b[0;31m         \u001b[0mself\u001b[0m\u001b[0;34m.\u001b[0m\u001b[0mresults\u001b[0m \u001b[0;34m=\u001b[0m \u001b[0mbatch\u001b[0m\u001b[0;34m(\u001b[0m\u001b[0;34m)\u001b[0m\u001b[0;34m\u001b[0m\u001b[0;34m\u001b[0m\u001b[0m\n\u001b[0m\u001b[1;32m    550\u001b[0m \u001b[0;34m\u001b[0m\u001b[0m\n\u001b[1;32m    551\u001b[0m     \u001b[0;32mdef\u001b[0m \u001b[0mget\u001b[0m\u001b[0;34m(\u001b[0m\u001b[0mself\u001b[0m\u001b[0;34m)\u001b[0m\u001b[0;34m:\u001b[0m\u001b[0;34m\u001b[0m\u001b[0;34m\u001b[0m\u001b[0m\n",
      "\u001b[0;32m/usr/local/lib/python3.6/dist-packages/joblib/parallel.py\u001b[0m in \u001b[0;36m__call__\u001b[0;34m(self)\u001b[0m\n\u001b[1;32m    223\u001b[0m         \u001b[0;32mwith\u001b[0m \u001b[0mparallel_backend\u001b[0m\u001b[0;34m(\u001b[0m\u001b[0mself\u001b[0m\u001b[0;34m.\u001b[0m\u001b[0m_backend\u001b[0m\u001b[0;34m,\u001b[0m \u001b[0mn_jobs\u001b[0m\u001b[0;34m=\u001b[0m\u001b[0mself\u001b[0m\u001b[0;34m.\u001b[0m\u001b[0m_n_jobs\u001b[0m\u001b[0;34m)\u001b[0m\u001b[0;34m:\u001b[0m\u001b[0;34m\u001b[0m\u001b[0;34m\u001b[0m\u001b[0m\n\u001b[1;32m    224\u001b[0m             return [func(*args, **kwargs)\n\u001b[0;32m--> 225\u001b[0;31m                     for func, args, kwargs in self.items]\n\u001b[0m\u001b[1;32m    226\u001b[0m \u001b[0;34m\u001b[0m\u001b[0m\n\u001b[1;32m    227\u001b[0m     \u001b[0;32mdef\u001b[0m \u001b[0m__len__\u001b[0m\u001b[0;34m(\u001b[0m\u001b[0mself\u001b[0m\u001b[0;34m)\u001b[0m\u001b[0;34m:\u001b[0m\u001b[0;34m\u001b[0m\u001b[0;34m\u001b[0m\u001b[0m\n",
      "\u001b[0;32m/usr/local/lib/python3.6/dist-packages/joblib/parallel.py\u001b[0m in \u001b[0;36m<listcomp>\u001b[0;34m(.0)\u001b[0m\n\u001b[1;32m    223\u001b[0m         \u001b[0;32mwith\u001b[0m \u001b[0mparallel_backend\u001b[0m\u001b[0;34m(\u001b[0m\u001b[0mself\u001b[0m\u001b[0;34m.\u001b[0m\u001b[0m_backend\u001b[0m\u001b[0;34m,\u001b[0m \u001b[0mn_jobs\u001b[0m\u001b[0;34m=\u001b[0m\u001b[0mself\u001b[0m\u001b[0;34m.\u001b[0m\u001b[0m_n_jobs\u001b[0m\u001b[0;34m)\u001b[0m\u001b[0;34m:\u001b[0m\u001b[0;34m\u001b[0m\u001b[0;34m\u001b[0m\u001b[0m\n\u001b[1;32m    224\u001b[0m             return [func(*args, **kwargs)\n\u001b[0;32m--> 225\u001b[0;31m                     for func, args, kwargs in self.items]\n\u001b[0m\u001b[1;32m    226\u001b[0m \u001b[0;34m\u001b[0m\u001b[0m\n\u001b[1;32m    227\u001b[0m     \u001b[0;32mdef\u001b[0m \u001b[0m__len__\u001b[0m\u001b[0;34m(\u001b[0m\u001b[0mself\u001b[0m\u001b[0;34m)\u001b[0m\u001b[0;34m:\u001b[0m\u001b[0;34m\u001b[0m\u001b[0;34m\u001b[0m\u001b[0m\n",
      "\u001b[0;32m/usr/local/lib/python3.6/dist-packages/sklearn/model_selection/_validation.py\u001b[0m in \u001b[0;36m_fit_and_score\u001b[0;34m(estimator, X, y, scorer, train, test, verbose, parameters, fit_params, return_train_score, return_parameters, return_n_test_samples, return_times, return_estimator, error_score)\u001b[0m\n\u001b[1;32m    514\u001b[0m             \u001b[0mestimator\u001b[0m\u001b[0;34m.\u001b[0m\u001b[0mfit\u001b[0m\u001b[0;34m(\u001b[0m\u001b[0mX_train\u001b[0m\u001b[0;34m,\u001b[0m \u001b[0;34m**\u001b[0m\u001b[0mfit_params\u001b[0m\u001b[0;34m)\u001b[0m\u001b[0;34m\u001b[0m\u001b[0;34m\u001b[0m\u001b[0m\n\u001b[1;32m    515\u001b[0m         \u001b[0;32melse\u001b[0m\u001b[0;34m:\u001b[0m\u001b[0;34m\u001b[0m\u001b[0;34m\u001b[0m\u001b[0m\n\u001b[0;32m--> 516\u001b[0;31m             \u001b[0mestimator\u001b[0m\u001b[0;34m.\u001b[0m\u001b[0mfit\u001b[0m\u001b[0;34m(\u001b[0m\u001b[0mX_train\u001b[0m\u001b[0;34m,\u001b[0m \u001b[0my_train\u001b[0m\u001b[0;34m,\u001b[0m \u001b[0;34m**\u001b[0m\u001b[0mfit_params\u001b[0m\u001b[0;34m)\u001b[0m\u001b[0;34m\u001b[0m\u001b[0;34m\u001b[0m\u001b[0m\n\u001b[0m\u001b[1;32m    517\u001b[0m \u001b[0;34m\u001b[0m\u001b[0m\n\u001b[1;32m    518\u001b[0m     \u001b[0;32mexcept\u001b[0m \u001b[0mException\u001b[0m \u001b[0;32mas\u001b[0m \u001b[0me\u001b[0m\u001b[0;34m:\u001b[0m\u001b[0;34m\u001b[0m\u001b[0;34m\u001b[0m\u001b[0m\n",
      "\u001b[0;32m/usr/local/lib/python3.6/dist-packages/keras/wrappers/scikit_learn.py\u001b[0m in \u001b[0;36mfit\u001b[0;34m(self, x, y, sample_weight, **kwargs)\u001b[0m\n\u001b[1;32m    208\u001b[0m         \u001b[0;32mif\u001b[0m \u001b[0msample_weight\u001b[0m \u001b[0;32mis\u001b[0m \u001b[0;32mnot\u001b[0m \u001b[0;32mNone\u001b[0m\u001b[0;34m:\u001b[0m\u001b[0;34m\u001b[0m\u001b[0;34m\u001b[0m\u001b[0m\n\u001b[1;32m    209\u001b[0m             \u001b[0mkwargs\u001b[0m\u001b[0;34m[\u001b[0m\u001b[0;34m'sample_weight'\u001b[0m\u001b[0;34m]\u001b[0m \u001b[0;34m=\u001b[0m \u001b[0msample_weight\u001b[0m\u001b[0;34m\u001b[0m\u001b[0;34m\u001b[0m\u001b[0m\n\u001b[0;32m--> 210\u001b[0;31m         \u001b[0;32mreturn\u001b[0m \u001b[0msuper\u001b[0m\u001b[0;34m(\u001b[0m\u001b[0mKerasClassifier\u001b[0m\u001b[0;34m,\u001b[0m \u001b[0mself\u001b[0m\u001b[0;34m)\u001b[0m\u001b[0;34m.\u001b[0m\u001b[0mfit\u001b[0m\u001b[0;34m(\u001b[0m\u001b[0mx\u001b[0m\u001b[0;34m,\u001b[0m \u001b[0my\u001b[0m\u001b[0;34m,\u001b[0m \u001b[0;34m**\u001b[0m\u001b[0mkwargs\u001b[0m\u001b[0;34m)\u001b[0m\u001b[0;34m\u001b[0m\u001b[0;34m\u001b[0m\u001b[0m\n\u001b[0m\u001b[1;32m    211\u001b[0m \u001b[0;34m\u001b[0m\u001b[0m\n\u001b[1;32m    212\u001b[0m     \u001b[0;32mdef\u001b[0m \u001b[0mpredict\u001b[0m\u001b[0;34m(\u001b[0m\u001b[0mself\u001b[0m\u001b[0;34m,\u001b[0m \u001b[0mx\u001b[0m\u001b[0;34m,\u001b[0m \u001b[0;34m**\u001b[0m\u001b[0mkwargs\u001b[0m\u001b[0;34m)\u001b[0m\u001b[0;34m:\u001b[0m\u001b[0;34m\u001b[0m\u001b[0;34m\u001b[0m\u001b[0m\n",
      "\u001b[0;32m/usr/local/lib/python3.6/dist-packages/keras/wrappers/scikit_learn.py\u001b[0m in \u001b[0;36mfit\u001b[0;34m(self, x, y, **kwargs)\u001b[0m\n\u001b[1;32m    150\u001b[0m         \u001b[0mfit_args\u001b[0m\u001b[0;34m.\u001b[0m\u001b[0mupdate\u001b[0m\u001b[0;34m(\u001b[0m\u001b[0mkwargs\u001b[0m\u001b[0;34m)\u001b[0m\u001b[0;34m\u001b[0m\u001b[0;34m\u001b[0m\u001b[0m\n\u001b[1;32m    151\u001b[0m \u001b[0;34m\u001b[0m\u001b[0m\n\u001b[0;32m--> 152\u001b[0;31m         \u001b[0mhistory\u001b[0m \u001b[0;34m=\u001b[0m \u001b[0mself\u001b[0m\u001b[0;34m.\u001b[0m\u001b[0mmodel\u001b[0m\u001b[0;34m.\u001b[0m\u001b[0mfit\u001b[0m\u001b[0;34m(\u001b[0m\u001b[0mx\u001b[0m\u001b[0;34m,\u001b[0m \u001b[0my\u001b[0m\u001b[0;34m,\u001b[0m \u001b[0;34m**\u001b[0m\u001b[0mfit_args\u001b[0m\u001b[0;34m)\u001b[0m\u001b[0;34m\u001b[0m\u001b[0;34m\u001b[0m\u001b[0m\n\u001b[0m\u001b[1;32m    153\u001b[0m \u001b[0;34m\u001b[0m\u001b[0m\n\u001b[1;32m    154\u001b[0m         \u001b[0;32mreturn\u001b[0m \u001b[0mhistory\u001b[0m\u001b[0;34m\u001b[0m\u001b[0;34m\u001b[0m\u001b[0m\n",
      "\u001b[0;32m/usr/local/lib/python3.6/dist-packages/keras/engine/training.py\u001b[0m in \u001b[0;36mfit\u001b[0;34m(self, x, y, batch_size, epochs, verbose, callbacks, validation_split, validation_data, shuffle, class_weight, sample_weight, initial_epoch, steps_per_epoch, validation_steps, validation_freq, max_queue_size, workers, use_multiprocessing, **kwargs)\u001b[0m\n\u001b[1;32m   1176\u001b[0m                                         \u001b[0msteps_per_epoch\u001b[0m\u001b[0;34m=\u001b[0m\u001b[0msteps_per_epoch\u001b[0m\u001b[0;34m,\u001b[0m\u001b[0;34m\u001b[0m\u001b[0;34m\u001b[0m\u001b[0m\n\u001b[1;32m   1177\u001b[0m                                         \u001b[0mvalidation_steps\u001b[0m\u001b[0;34m=\u001b[0m\u001b[0mvalidation_steps\u001b[0m\u001b[0;34m,\u001b[0m\u001b[0;34m\u001b[0m\u001b[0;34m\u001b[0m\u001b[0m\n\u001b[0;32m-> 1178\u001b[0;31m                                         validation_freq=validation_freq)\n\u001b[0m\u001b[1;32m   1179\u001b[0m \u001b[0;34m\u001b[0m\u001b[0m\n\u001b[1;32m   1180\u001b[0m     def evaluate(self,\n",
      "\u001b[0;32m/usr/local/lib/python3.6/dist-packages/keras/engine/training_arrays.py\u001b[0m in \u001b[0;36mfit_loop\u001b[0;34m(model, fit_function, fit_inputs, out_labels, batch_size, epochs, verbose, callbacks, val_function, val_inputs, shuffle, callback_metrics, initial_epoch, steps_per_epoch, validation_steps, validation_freq)\u001b[0m\n\u001b[1;32m    202\u001b[0m                     \u001b[0mins_batch\u001b[0m\u001b[0;34m[\u001b[0m\u001b[0mi\u001b[0m\u001b[0;34m]\u001b[0m \u001b[0;34m=\u001b[0m \u001b[0mins_batch\u001b[0m\u001b[0;34m[\u001b[0m\u001b[0mi\u001b[0m\u001b[0;34m]\u001b[0m\u001b[0;34m.\u001b[0m\u001b[0mtoarray\u001b[0m\u001b[0;34m(\u001b[0m\u001b[0;34m)\u001b[0m\u001b[0;34m\u001b[0m\u001b[0;34m\u001b[0m\u001b[0m\n\u001b[1;32m    203\u001b[0m \u001b[0;34m\u001b[0m\u001b[0m\n\u001b[0;32m--> 204\u001b[0;31m                 \u001b[0mouts\u001b[0m \u001b[0;34m=\u001b[0m \u001b[0mfit_function\u001b[0m\u001b[0;34m(\u001b[0m\u001b[0mins_batch\u001b[0m\u001b[0;34m)\u001b[0m\u001b[0;34m\u001b[0m\u001b[0;34m\u001b[0m\u001b[0m\n\u001b[0m\u001b[1;32m    205\u001b[0m                 \u001b[0mouts\u001b[0m \u001b[0;34m=\u001b[0m \u001b[0mto_list\u001b[0m\u001b[0;34m(\u001b[0m\u001b[0mouts\u001b[0m\u001b[0;34m)\u001b[0m\u001b[0;34m\u001b[0m\u001b[0;34m\u001b[0m\u001b[0m\n\u001b[1;32m    206\u001b[0m                 \u001b[0;32mfor\u001b[0m \u001b[0ml\u001b[0m\u001b[0;34m,\u001b[0m \u001b[0mo\u001b[0m \u001b[0;32min\u001b[0m \u001b[0mzip\u001b[0m\u001b[0;34m(\u001b[0m\u001b[0mout_labels\u001b[0m\u001b[0;34m,\u001b[0m \u001b[0mouts\u001b[0m\u001b[0;34m)\u001b[0m\u001b[0;34m:\u001b[0m\u001b[0;34m\u001b[0m\u001b[0;34m\u001b[0m\u001b[0m\n",
      "\u001b[0;32m/usr/local/lib/python3.6/dist-packages/keras/backend/tensorflow_backend.py\u001b[0m in \u001b[0;36m__call__\u001b[0;34m(self, inputs)\u001b[0m\n\u001b[1;32m   2977\u001b[0m                     \u001b[0;32mreturn\u001b[0m \u001b[0mself\u001b[0m\u001b[0;34m.\u001b[0m\u001b[0m_legacy_call\u001b[0m\u001b[0;34m(\u001b[0m\u001b[0minputs\u001b[0m\u001b[0;34m)\u001b[0m\u001b[0;34m\u001b[0m\u001b[0;34m\u001b[0m\u001b[0m\n\u001b[1;32m   2978\u001b[0m \u001b[0;34m\u001b[0m\u001b[0m\n\u001b[0;32m-> 2979\u001b[0;31m             \u001b[0;32mreturn\u001b[0m \u001b[0mself\u001b[0m\u001b[0;34m.\u001b[0m\u001b[0m_call\u001b[0m\u001b[0;34m(\u001b[0m\u001b[0minputs\u001b[0m\u001b[0;34m)\u001b[0m\u001b[0;34m\u001b[0m\u001b[0;34m\u001b[0m\u001b[0m\n\u001b[0m\u001b[1;32m   2980\u001b[0m         \u001b[0;32melse\u001b[0m\u001b[0;34m:\u001b[0m\u001b[0;34m\u001b[0m\u001b[0;34m\u001b[0m\u001b[0m\n\u001b[1;32m   2981\u001b[0m             \u001b[0;32mif\u001b[0m \u001b[0mpy_any\u001b[0m\u001b[0;34m(\u001b[0m\u001b[0mis_tensor\u001b[0m\u001b[0;34m(\u001b[0m\u001b[0mx\u001b[0m\u001b[0;34m)\u001b[0m \u001b[0;32mfor\u001b[0m \u001b[0mx\u001b[0m \u001b[0;32min\u001b[0m \u001b[0minputs\u001b[0m\u001b[0;34m)\u001b[0m\u001b[0;34m:\u001b[0m\u001b[0;34m\u001b[0m\u001b[0;34m\u001b[0m\u001b[0m\n",
      "\u001b[0;32m/usr/local/lib/python3.6/dist-packages/keras/backend/tensorflow_backend.py\u001b[0m in \u001b[0;36m_call\u001b[0;34m(self, inputs)\u001b[0m\n\u001b[1;32m   2935\u001b[0m             \u001b[0mfetched\u001b[0m \u001b[0;34m=\u001b[0m \u001b[0mself\u001b[0m\u001b[0;34m.\u001b[0m\u001b[0m_callable_fn\u001b[0m\u001b[0;34m(\u001b[0m\u001b[0;34m*\u001b[0m\u001b[0marray_vals\u001b[0m\u001b[0;34m,\u001b[0m \u001b[0mrun_metadata\u001b[0m\u001b[0;34m=\u001b[0m\u001b[0mself\u001b[0m\u001b[0;34m.\u001b[0m\u001b[0mrun_metadata\u001b[0m\u001b[0;34m)\u001b[0m\u001b[0;34m\u001b[0m\u001b[0;34m\u001b[0m\u001b[0m\n\u001b[1;32m   2936\u001b[0m         \u001b[0;32melse\u001b[0m\u001b[0;34m:\u001b[0m\u001b[0;34m\u001b[0m\u001b[0;34m\u001b[0m\u001b[0m\n\u001b[0;32m-> 2937\u001b[0;31m             \u001b[0mfetched\u001b[0m \u001b[0;34m=\u001b[0m \u001b[0mself\u001b[0m\u001b[0;34m.\u001b[0m\u001b[0m_callable_fn\u001b[0m\u001b[0;34m(\u001b[0m\u001b[0;34m*\u001b[0m\u001b[0marray_vals\u001b[0m\u001b[0;34m)\u001b[0m\u001b[0;34m\u001b[0m\u001b[0;34m\u001b[0m\u001b[0m\n\u001b[0m\u001b[1;32m   2938\u001b[0m         \u001b[0;32mreturn\u001b[0m \u001b[0mfetched\u001b[0m\u001b[0;34m[\u001b[0m\u001b[0;34m:\u001b[0m\u001b[0mlen\u001b[0m\u001b[0;34m(\u001b[0m\u001b[0mself\u001b[0m\u001b[0;34m.\u001b[0m\u001b[0moutputs\u001b[0m\u001b[0;34m)\u001b[0m\u001b[0;34m]\u001b[0m\u001b[0;34m\u001b[0m\u001b[0;34m\u001b[0m\u001b[0m\n\u001b[1;32m   2939\u001b[0m \u001b[0;34m\u001b[0m\u001b[0m\n",
      "\u001b[0;32m/usr/local/lib/python3.6/dist-packages/tensorflow/python/client/session.py\u001b[0m in \u001b[0;36m__call__\u001b[0;34m(self, *args, **kwargs)\u001b[0m\n\u001b[1;32m   1456\u001b[0m         ret = tf_session.TF_SessionRunCallable(self._session._session,\n\u001b[1;32m   1457\u001b[0m                                                \u001b[0mself\u001b[0m\u001b[0;34m.\u001b[0m\u001b[0m_handle\u001b[0m\u001b[0;34m,\u001b[0m \u001b[0margs\u001b[0m\u001b[0;34m,\u001b[0m\u001b[0;34m\u001b[0m\u001b[0;34m\u001b[0m\u001b[0m\n\u001b[0;32m-> 1458\u001b[0;31m                                                run_metadata_ptr)\n\u001b[0m\u001b[1;32m   1459\u001b[0m         \u001b[0;32mif\u001b[0m \u001b[0mrun_metadata\u001b[0m\u001b[0;34m:\u001b[0m\u001b[0;34m\u001b[0m\u001b[0;34m\u001b[0m\u001b[0m\n\u001b[1;32m   1460\u001b[0m           \u001b[0mproto_data\u001b[0m \u001b[0;34m=\u001b[0m \u001b[0mtf_session\u001b[0m\u001b[0;34m.\u001b[0m\u001b[0mTF_GetBuffer\u001b[0m\u001b[0;34m(\u001b[0m\u001b[0mrun_metadata_ptr\u001b[0m\u001b[0;34m)\u001b[0m\u001b[0;34m\u001b[0m\u001b[0;34m\u001b[0m\u001b[0m\n",
      "\u001b[0;31mKeyboardInterrupt\u001b[0m: "
     ]
    }
   ],
   "source": [
    "from keras.wrappers.scikit_learn import KerasClassifier\n",
    "from sklearn.model_selection import GridSearchCV\n",
    "import time\n",
    "\n",
    "start_time = time.time()\n",
    "\n",
    "batch_size = 100\n",
    "epochs = 20\n",
    "#writing the fucntion to perform parameter tuning and pass the argument of different kernel sizes as a list\n",
    "n_kernel = [2,3,5,7,11]\n",
    "\n",
    "\n",
    "model_gs = KerasClassifier(build_fn = classifier_1,batch_size = batch_size,epochs = epochs,verbose = 0)\n",
    "param_grid = dict(n_kernel = n_kernel)\n",
    "grid = GridSearchCV(estimator = model_gs,param_grid = param_grid,cv = 5,verbose = 1)\n",
    "grid_result = grid.fit(X_train,Y_train)\n",
    "\n",
    "end_time = time.time()\n",
    "print('Time taken for execution of the hypereparamter searching is:',(end_time - start_time))\n",
    "\n",
    "\n",
    "print(\"Best: %f using %s\" % (grid_result.best_score_, grid_result.best_params_))\n",
    "means = grid_result.cv_results_['mean_test_score']\n",
    "stds = grid_result.cv_results_['std_test_score']\n",
    "params = grid_result.cv_results_['params']\n",
    "for mean, stdev, param in zip(means, stds, params):\n",
    "    print(\"%f (%f) with: %r\" % (mean, stdev, param))"
   ]
  },
  {
   "cell_type": "code",
   "execution_count": 11,
   "metadata": {
    "colab": {
     "base_uri": "https://localhost:8080/",
     "height": 1000
    },
    "colab_type": "code",
    "id": "s2S_xiBhKi7K",
    "outputId": "fab91ee8-1b9e-41e8-d608-a06066695f01"
   },
   "outputs": [
    {
     "name": "stdout",
     "output_type": "stream",
     "text": [
      "WARNING:tensorflow:From /usr/local/lib/python3.6/dist-packages/keras/backend/tensorflow_backend.py:66: The name tf.get_default_graph is deprecated. Please use tf.compat.v1.get_default_graph instead.\n",
      "\n",
      "WARNING:tensorflow:From /usr/local/lib/python3.6/dist-packages/keras/backend/tensorflow_backend.py:541: The name tf.placeholder is deprecated. Please use tf.compat.v1.placeholder instead.\n",
      "\n",
      "WARNING:tensorflow:From /usr/local/lib/python3.6/dist-packages/keras/backend/tensorflow_backend.py:4479: The name tf.truncated_normal is deprecated. Please use tf.random.truncated_normal instead.\n",
      "\n",
      "WARNING:tensorflow:From /usr/local/lib/python3.6/dist-packages/keras/backend/tensorflow_backend.py:4267: The name tf.nn.max_pool is deprecated. Please use tf.nn.max_pool2d instead.\n",
      "\n",
      "WARNING:tensorflow:From /usr/local/lib/python3.6/dist-packages/keras/backend/tensorflow_backend.py:190: The name tf.get_default_session is deprecated. Please use tf.compat.v1.get_default_session instead.\n",
      "\n",
      "WARNING:tensorflow:From /usr/local/lib/python3.6/dist-packages/keras/backend/tensorflow_backend.py:197: The name tf.ConfigProto is deprecated. Please use tf.compat.v1.ConfigProto instead.\n",
      "\n",
      "WARNING:tensorflow:From /usr/local/lib/python3.6/dist-packages/keras/backend/tensorflow_backend.py:2041: The name tf.nn.fused_batch_norm is deprecated. Please use tf.compat.v1.nn.fused_batch_norm instead.\n",
      "\n",
      "WARNING:tensorflow:From /usr/local/lib/python3.6/dist-packages/keras/backend/tensorflow_backend.py:3733: calling dropout (from tensorflow.python.ops.nn_ops) with keep_prob is deprecated and will be removed in a future version.\n",
      "Instructions for updating:\n",
      "Please use `rate` instead of `keep_prob`. Rate should be set to `rate = 1 - keep_prob`.\n",
      "Model: \"sequential_1\"\n",
      "_________________________________________________________________\n",
      "Layer (type)                 Output Shape              Param #   \n",
      "=================================================================\n",
      "conv2d_1 (Conv2D)            (None, 22, 22, 64)        3200      \n",
      "_________________________________________________________________\n",
      "conv2d_2 (Conv2D)            (None, 16, 16, 32)        100384    \n",
      "_________________________________________________________________\n",
      "max_pooling2d_1 (MaxPooling2 (None, 8, 8, 32)          0         \n",
      "_________________________________________________________________\n",
      "batch_normalization_1 (Batch (None, 8, 8, 32)          128       \n",
      "_________________________________________________________________\n",
      "dropout_1 (Dropout)          (None, 8, 8, 32)          0         \n",
      "_________________________________________________________________\n",
      "flatten_1 (Flatten)          (None, 2048)              0         \n",
      "_________________________________________________________________\n",
      "dense_1 (Dense)              (None, 128)               262272    \n",
      "_________________________________________________________________\n",
      "batch_normalization_2 (Batch (None, 128)               512       \n",
      "_________________________________________________________________\n",
      "dropout_2 (Dropout)          (None, 128)               0         \n",
      "_________________________________________________________________\n",
      "dense_2 (Dense)              (None, 10)                1290      \n",
      "=================================================================\n",
      "Total params: 367,786\n",
      "Trainable params: 367,466\n",
      "Non-trainable params: 320\n",
      "_________________________________________________________________\n",
      "None\n",
      "WARNING:tensorflow:From /usr/local/lib/python3.6/dist-packages/keras/optimizers.py:793: The name tf.train.Optimizer is deprecated. Please use tf.compat.v1.train.Optimizer instead.\n",
      "\n",
      "WARNING:tensorflow:From /usr/local/lib/python3.6/dist-packages/tensorflow/python/ops/math_grad.py:1250: add_dispatch_support.<locals>.wrapper (from tensorflow.python.ops.array_ops) is deprecated and will be removed in a future version.\n",
      "Instructions for updating:\n",
      "Use tf.where in 2.0, which has the same broadcast rule as np.where\n",
      "Train on 60000 samples, validate on 10000 samples\n",
      "Epoch 1/20\n",
      "60000/60000 [==============================] - 10s 164us/step - loss: 0.1793 - acc: 0.9458 - val_loss: 0.0477 - val_acc: 0.9845\n",
      "Epoch 2/20\n",
      "60000/60000 [==============================] - 6s 95us/step - loss: 0.0652 - acc: 0.9811 - val_loss: 0.0315 - val_acc: 0.9908\n",
      "Epoch 3/20\n",
      "60000/60000 [==============================] - 6s 95us/step - loss: 0.0490 - acc: 0.9851 - val_loss: 0.0253 - val_acc: 0.9921\n",
      "Epoch 4/20\n",
      "60000/60000 [==============================] - 6s 95us/step - loss: 0.0387 - acc: 0.9881 - val_loss: 0.0268 - val_acc: 0.9923\n",
      "Epoch 5/20\n",
      "60000/60000 [==============================] - 6s 96us/step - loss: 0.0326 - acc: 0.9899 - val_loss: 0.0230 - val_acc: 0.9921\n",
      "Epoch 6/20\n",
      "60000/60000 [==============================] - 6s 95us/step - loss: 0.0264 - acc: 0.9917 - val_loss: 0.0231 - val_acc: 0.9927\n",
      "Epoch 7/20\n",
      "60000/60000 [==============================] - 6s 94us/step - loss: 0.0255 - acc: 0.9918 - val_loss: 0.0227 - val_acc: 0.9917\n",
      "Epoch 8/20\n",
      "60000/60000 [==============================] - 6s 94us/step - loss: 0.0248 - acc: 0.9922 - val_loss: 0.0207 - val_acc: 0.9931\n",
      "Epoch 9/20\n",
      "60000/60000 [==============================] - 6s 95us/step - loss: 0.0218 - acc: 0.9929 - val_loss: 0.0214 - val_acc: 0.9930\n",
      "Epoch 10/20\n",
      "60000/60000 [==============================] - 6s 94us/step - loss: 0.0176 - acc: 0.9944 - val_loss: 0.0195 - val_acc: 0.9938\n",
      "Epoch 11/20\n",
      "60000/60000 [==============================] - 6s 94us/step - loss: 0.0170 - acc: 0.9944 - val_loss: 0.0211 - val_acc: 0.9931\n",
      "Epoch 12/20\n",
      "60000/60000 [==============================] - 6s 95us/step - loss: 0.0165 - acc: 0.9943 - val_loss: 0.0217 - val_acc: 0.9928\n",
      "Epoch 13/20\n",
      "60000/60000 [==============================] - 6s 95us/step - loss: 0.0154 - acc: 0.9949 - val_loss: 0.0281 - val_acc: 0.9911\n",
      "Epoch 14/20\n",
      "60000/60000 [==============================] - 6s 95us/step - loss: 0.0149 - acc: 0.9950 - val_loss: 0.0181 - val_acc: 0.9947\n",
      "Epoch 15/20\n",
      "60000/60000 [==============================] - 6s 93us/step - loss: 0.0133 - acc: 0.9960 - val_loss: 0.0197 - val_acc: 0.9934\n",
      "Epoch 16/20\n",
      "60000/60000 [==============================] - 6s 94us/step - loss: 0.0113 - acc: 0.9964 - val_loss: 0.0192 - val_acc: 0.9940\n",
      "Epoch 17/20\n",
      "60000/60000 [==============================] - 6s 94us/step - loss: 0.0109 - acc: 0.9966 - val_loss: 0.0208 - val_acc: 0.9940\n",
      "Epoch 18/20\n",
      "60000/60000 [==============================] - 6s 94us/step - loss: 0.0102 - acc: 0.9967 - val_loss: 0.0205 - val_acc: 0.9941\n",
      "Epoch 19/20\n",
      "60000/60000 [==============================] - 6s 95us/step - loss: 0.0104 - acc: 0.9967 - val_loss: 0.0242 - val_acc: 0.9928\n",
      "Epoch 20/20\n",
      "60000/60000 [==============================] - 6s 95us/step - loss: 0.0100 - acc: 0.9967 - val_loss: 0.0196 - val_acc: 0.9951\n"
     ]
    }
   ],
   "source": [
    "#after getting the best kernel_size\n",
    "# we need to evaluate it on the test data\n",
    "\n",
    "#best_kernel_size is 7\n",
    "batch_size = 100\n",
    "epochs = 20\n",
    "model = Sequential()\n",
    "model.add(Conv2D(64,kernel_size = (7,7),activation = 'relu',kernel_initializer = he_normal(seed  = None),input_shape = input_shape))\n",
    "model.add(Conv2D(32,(7,7),activation = 'relu',kernel_initializer = he_normal(seed = None)))\n",
    "model.add(MaxPooling2D(pool_size=(2, 2)))\n",
    "model.add(BatchNormalization())\n",
    "model.add(Dropout(0.3))\n",
    "\n",
    "  #adding a flattening layer\n",
    "model.add(Flatten())\n",
    "model.add(Dense(128,activation = 'relu',kernel_initializer = he_normal(seed = None)))\n",
    "model.add(BatchNormalization())\n",
    "model.add(Dropout(0.5))\n",
    "  \n",
    "  #addding the output layer\n",
    "model.add(Dense(10,activation = 'softmax'))\n",
    "print(model.summary())\n",
    "\n",
    "\n",
    "model.compile(loss = 'categorical_crossentropy',optimizer ='adam', metrics = ['accuracy'])\n",
    "history = model.fit(X_train,Y_train,batch_size = batch_size,epochs = epochs,validation_data = (X_test,Y_test),verbose = 1)"
   ]
  },
  {
   "cell_type": "code",
   "execution_count": 0,
   "metadata": {
    "colab": {},
    "colab_type": "code",
    "id": "9E-0WbEBG6J8"
   },
   "outputs": [],
   "source": []
  },
  {
   "cell_type": "markdown",
   "metadata": {
    "colab_type": "text",
    "id": "Q22ku1RsG7SL"
   },
   "source": [
    "Though we got an absolutely amazing accuracy of 99.31 % on test data,in the next model that we will build,data augmentation would be used on the data for better understanding the data"
   ]
  },
  {
   "cell_type": "code",
   "execution_count": 0,
   "metadata": {
    "colab": {},
    "colab_type": "code",
    "id": "H_Fqc5kbuA6L"
   },
   "outputs": [],
   "source": [
    "import pickle\n",
    "\n",
    "import pickle\n",
    "def savetofile(obj,filename):\n",
    "  pickle.dump(obj,open(filename+\".p\",'wb'))\n",
    "  \n",
    "def openfromfile(filename):\n",
    "  temp = pickle.load(open(filename+\".p\",'rb'))\n",
    "  return temp\n"
   ]
  },
  {
   "cell_type": "code",
   "execution_count": 0,
   "metadata": {
    "colab": {},
    "colab_type": "code",
    "id": "k1GGGxniw8FO"
   },
   "outputs": [],
   "source": [
    "history1 = savetofile(history,'history_1')\n",
    "model1 = savetofile(model,'model1')"
   ]
  },
  {
   "cell_type": "code",
   "execution_count": 14,
   "metadata": {
    "colab": {
     "base_uri": "https://localhost:8080/",
     "height": 67
    },
    "colab_type": "code",
    "id": "JpOSRc5TtYTh",
    "outputId": "abc97c8e-e515-4607-9364-4996edaa12f1"
   },
   "outputs": [
    {
     "name": "stdout",
     "output_type": "stream",
     "text": [
      "10000/10000 [==============================] - 1s 89us/step\n",
      "Loss on test data is 0.01964392685413427\n",
      "Accuracy on test data is 0.9951\n"
     ]
    }
   ],
   "source": [
    "model1 = openfromfile('model1')\n",
    "score_model1 = model1.evaluate(X_test,Y_test)\n",
    "print('Loss on test data is',score_model1[0])\n",
    "print('Accuracy on test data is',score_model1[1])"
   ]
  },
  {
   "cell_type": "code",
   "execution_count": 15,
   "metadata": {
    "colab": {
     "base_uri": "https://localhost:8080/",
     "height": 34
    },
    "colab_type": "code",
    "id": "x7upYnP8IcGj",
    "outputId": "02e3e61a-b917-4e7d-dc10-00eb6ed05f24"
   },
   "outputs": [
    {
     "data": {
      "text/plain": [
       "(60000, 28, 28, 1)"
      ]
     },
     "execution_count": 15,
     "metadata": {
      "tags": []
     },
     "output_type": "execute_result"
    }
   ],
   "source": [
    "X_train.shape"
   ]
  },
  {
   "cell_type": "code",
   "execution_count": 16,
   "metadata": {
    "colab": {
     "base_uri": "https://localhost:8080/",
     "height": 806
    },
    "colab_type": "code",
    "id": "AvYYiexNJ9PU",
    "outputId": "9fc272d9-4552-4530-f282-84860497e785"
   },
   "outputs": [
    {
     "name": "stdout",
     "output_type": "stream",
     "text": [
      "Model: \"sequential_2\"\n",
      "_________________________________________________________________\n",
      "Layer (type)                 Output Shape              Param #   \n",
      "=================================================================\n",
      "conv2d_3 (Conv2D)            (None, 26, 26, 32)        320       \n",
      "_________________________________________________________________\n",
      "conv2d_4 (Conv2D)            (None, 24, 24, 32)        9248      \n",
      "_________________________________________________________________\n",
      "max_pooling2d_2 (MaxPooling2 (None, 12, 12, 32)        0         \n",
      "_________________________________________________________________\n",
      "batch_normalization_3 (Batch (None, 12, 12, 32)        128       \n",
      "_________________________________________________________________\n",
      "dropout_3 (Dropout)          (None, 12, 12, 32)        0         \n",
      "_________________________________________________________________\n",
      "conv2d_5 (Conv2D)            (None, 11, 11, 64)        8256      \n",
      "_________________________________________________________________\n",
      "conv2d_6 (Conv2D)            (None, 10, 10, 64)        16448     \n",
      "_________________________________________________________________\n",
      "max_pooling2d_3 (MaxPooling2 (None, 5, 5, 64)          0         \n",
      "_________________________________________________________________\n",
      "batch_normalization_4 (Batch (None, 5, 5, 64)          256       \n",
      "_________________________________________________________________\n",
      "dropout_4 (Dropout)          (None, 5, 5, 64)          0         \n",
      "_________________________________________________________________\n",
      "conv2d_7 (Conv2D)            (None, 1, 1, 128)         204928    \n",
      "_________________________________________________________________\n",
      "batch_normalization_5 (Batch (None, 1, 1, 128)         512       \n",
      "_________________________________________________________________\n",
      "dropout_5 (Dropout)          (None, 1, 1, 128)         0         \n",
      "_________________________________________________________________\n",
      "flatten_2 (Flatten)          (None, 128)               0         \n",
      "_________________________________________________________________\n",
      "dense_3 (Dense)              (None, 256)               33024     \n",
      "_________________________________________________________________\n",
      "dropout_6 (Dropout)          (None, 256)               0         \n",
      "_________________________________________________________________\n",
      "dense_4 (Dense)              (None, 128)               32896     \n",
      "_________________________________________________________________\n",
      "dropout_7 (Dropout)          (None, 128)               0         \n",
      "_________________________________________________________________\n",
      "dense_5 (Dense)              (None, 10)                1290      \n",
      "=================================================================\n",
      "Total params: 307,306\n",
      "Trainable params: 306,858\n",
      "Non-trainable params: 448\n",
      "_________________________________________________________________\n",
      "None\n"
     ]
    }
   ],
   "source": [
    "#CNN with 5 layers\n",
    "\n",
    "model = Sequential()\n",
    "\n",
    "#1st and 2nd layer with maxpooling layer\n",
    "model.add(Conv2D(32,kernel_size = 3,activation = 'relu',kernel_initializer = he_normal(seed = None),input_shape = input_shape))\n",
    "model.add(Conv2D(32,kernel_size = 3,activation = 'relu',kernel_initializer = he_normal(seed = None)))\n",
    "model.add(MaxPooling2D(2,2))\n",
    "model.add(BatchNormalization())\n",
    "model.add(Dropout(0.5))\n",
    "\n",
    "#3rd and 4th layer with maxpooling layer\n",
    "model.add(Conv2D(64,kernel_size = 2,activation = 'relu',kernel_initializer = he_normal(seed = None)))\n",
    "model.add(Conv2D(64,kernel_size = 2,activation = 'relu',kernel_initializer = he_normal(seed = None)))\n",
    "model.add(MaxPooling2D(2,2))\n",
    "model.add(BatchNormalization())\n",
    "model.add(Dropout(0.5))\n",
    "\n",
    "\n",
    "#5th layer\n",
    "model.add(Conv2D(128,kernel_size = 5,activation = 'relu',kernel_initializer = he_normal(seed = None)))\n",
    "model.add(BatchNormalization())\n",
    "model.add(Dropout(0.4))\n",
    "\n",
    "#flattening adn adding another 2 dense layers with relu activation\n",
    "model.add(Flatten())\n",
    "model.add(Dense(256,activation = 'relu',kernel_initializer = he_normal(seed = None)))\n",
    "model.add(Dropout(0.4))\n",
    "\n",
    "\n",
    "model.add(Dense(128,activation = 'relu',kernel_initializer = he_normal(seed = None)))\n",
    "model.add(Dropout(0.4))\n",
    "\n",
    "\n",
    "#output layer\n",
    "model.add(Dense(10,activation = 'softmax'))\n",
    "\n",
    "print(model.summary())"
   ]
  },
  {
   "cell_type": "code",
   "execution_count": 17,
   "metadata": {
    "colab": {
     "base_uri": "https://localhost:8080/",
     "height": 706
    },
    "colab_type": "code",
    "id": "jeEnvjLtNjCi",
    "outputId": "14b0a728-6c8f-46ec-8a62-ecee33476d49"
   },
   "outputs": [
    {
     "name": "stdout",
     "output_type": "stream",
     "text": [
      "Train on 60000 samples, validate on 10000 samples\n",
      "Epoch 1/20\n",
      "60000/60000 [==============================] - 7s 121us/step - loss: 0.7325 - acc: 0.7727 - val_loss: 0.1535 - val_acc: 0.9553\n",
      "Epoch 2/20\n",
      "60000/60000 [==============================] - 6s 101us/step - loss: 0.1859 - acc: 0.9471 - val_loss: 0.1055 - val_acc: 0.9669\n",
      "Epoch 3/20\n",
      "60000/60000 [==============================] - 6s 102us/step - loss: 0.1418 - acc: 0.9615 - val_loss: 0.0475 - val_acc: 0.9845\n",
      "Epoch 4/20\n",
      "60000/60000 [==============================] - 6s 101us/step - loss: 0.1171 - acc: 0.9675 - val_loss: 0.0447 - val_acc: 0.9873\n",
      "Epoch 5/20\n",
      "60000/60000 [==============================] - 6s 102us/step - loss: 0.1005 - acc: 0.9726 - val_loss: 0.0389 - val_acc: 0.9886\n",
      "Epoch 6/20\n",
      "60000/60000 [==============================] - 6s 100us/step - loss: 0.0924 - acc: 0.9747 - val_loss: 0.0388 - val_acc: 0.9886\n",
      "Epoch 7/20\n",
      "60000/60000 [==============================] - 6s 102us/step - loss: 0.0879 - acc: 0.9760 - val_loss: 0.0454 - val_acc: 0.9877\n",
      "Epoch 8/20\n",
      "60000/60000 [==============================] - 6s 100us/step - loss: 0.0760 - acc: 0.9791 - val_loss: 0.0380 - val_acc: 0.9880\n",
      "Epoch 9/20\n",
      "60000/60000 [==============================] - 6s 100us/step - loss: 0.0752 - acc: 0.9788 - val_loss: 0.0360 - val_acc: 0.9899\n",
      "Epoch 10/20\n",
      "60000/60000 [==============================] - 6s 101us/step - loss: 0.0696 - acc: 0.9808 - val_loss: 0.0314 - val_acc: 0.9915\n",
      "Epoch 11/20\n",
      "60000/60000 [==============================] - 6s 102us/step - loss: 0.0678 - acc: 0.9821 - val_loss: 0.0278 - val_acc: 0.9922\n",
      "Epoch 12/20\n",
      "60000/60000 [==============================] - 6s 100us/step - loss: 0.0632 - acc: 0.9829 - val_loss: 0.0326 - val_acc: 0.9917\n",
      "Epoch 13/20\n",
      "60000/60000 [==============================] - 6s 100us/step - loss: 0.0591 - acc: 0.9837 - val_loss: 0.0283 - val_acc: 0.9931\n",
      "Epoch 14/20\n",
      "60000/60000 [==============================] - 6s 101us/step - loss: 0.0564 - acc: 0.9841 - val_loss: 0.0291 - val_acc: 0.9916\n",
      "Epoch 15/20\n",
      "60000/60000 [==============================] - 6s 101us/step - loss: 0.0541 - acc: 0.9846 - val_loss: 0.0304 - val_acc: 0.9922\n",
      "Epoch 16/20\n",
      "60000/60000 [==============================] - 6s 102us/step - loss: 0.0562 - acc: 0.9846 - val_loss: 0.0263 - val_acc: 0.9929\n",
      "Epoch 17/20\n",
      "60000/60000 [==============================] - 6s 101us/step - loss: 0.0488 - acc: 0.9862 - val_loss: 0.0262 - val_acc: 0.9917\n",
      "Epoch 18/20\n",
      "60000/60000 [==============================] - 6s 101us/step - loss: 0.0497 - acc: 0.9863 - val_loss: 0.0242 - val_acc: 0.9936\n",
      "Epoch 19/20\n",
      "60000/60000 [==============================] - 6s 101us/step - loss: 0.0504 - acc: 0.9861 - val_loss: 0.0225 - val_acc: 0.9932\n",
      "Epoch 20/20\n",
      "60000/60000 [==============================] - 6s 101us/step - loss: 0.0490 - acc: 0.9867 - val_loss: 0.0232 - val_acc: 0.9937\n"
     ]
    }
   ],
   "source": [
    "#optimization for compilation\n",
    "\n",
    "model.compile(loss = 'categorical_crossentropy',optimizer = 'adam',metrics = ['accuracy'])\n",
    "history = model.fit(X_train,Y_train,batch_size = batch_size,epochs = epochs,validation_data = (X_test,Y_test),verbose = 1)"
   ]
  },
  {
   "cell_type": "code",
   "execution_count": 0,
   "metadata": {
    "colab": {},
    "colab_type": "code",
    "id": "K3jjBvJ-WSp_"
   },
   "outputs": [],
   "source": [
    "history2 = savetofile(history,'history2')\n",
    "model2 = savetofile(model,'model2')"
   ]
  },
  {
   "cell_type": "code",
   "execution_count": 19,
   "metadata": {
    "colab": {
     "base_uri": "https://localhost:8080/",
     "height": 67
    },
    "colab_type": "code",
    "id": "dDFrFzvXS6oy",
    "outputId": "cef7a384-5dc4-4e5b-9a54-0a05ca1ffd54"
   },
   "outputs": [
    {
     "name": "stdout",
     "output_type": "stream",
     "text": [
      "10000/10000 [==============================] - 1s 112us/step\n",
      "Loss on test data is 0.023159436680417637\n",
      "Accuracy on test data is 0.9937\n"
     ]
    }
   ],
   "source": [
    "model2 = openfromfile('model2')\n",
    "score_model2 = model2.evaluate(X_test,Y_test)\n",
    "print('Loss on test data is',score_model2[0])\n",
    "print('Accuracy on test data is',score_model2[1])"
   ]
  },
  {
   "cell_type": "code",
   "execution_count": 20,
   "metadata": {
    "colab": {
     "base_uri": "https://localhost:8080/",
     "height": 1000
    },
    "colab_type": "code",
    "id": "EIAJmWUBWf58",
    "outputId": "d0a6f91e-d2e9-415e-ebfc-148c95cf4995"
   },
   "outputs": [
    {
     "name": "stdout",
     "output_type": "stream",
     "text": [
      "Model: \"sequential_3\"\n",
      "_________________________________________________________________\n",
      "Layer (type)                 Output Shape              Param #   \n",
      "=================================================================\n",
      "conv2d_8 (Conv2D)            (None, 26, 26, 16)        160       \n",
      "_________________________________________________________________\n",
      "max_pooling2d_4 (MaxPooling2 (None, 26, 26, 16)        0         \n",
      "_________________________________________________________________\n",
      "batch_normalization_6 (Batch (None, 26, 26, 16)        64        \n",
      "_________________________________________________________________\n",
      "dropout_8 (Dropout)          (None, 26, 26, 16)        0         \n",
      "_________________________________________________________________\n",
      "conv2d_9 (Conv2D)            (None, 24, 24, 32)        4640      \n",
      "_________________________________________________________________\n",
      "max_pooling2d_5 (MaxPooling2 (None, 24, 24, 32)        0         \n",
      "_________________________________________________________________\n",
      "batch_normalization_7 (Batch (None, 24, 24, 32)        128       \n",
      "_________________________________________________________________\n",
      "dropout_9 (Dropout)          (None, 24, 24, 32)        0         \n",
      "_________________________________________________________________\n",
      "conv2d_10 (Conv2D)           (None, 22, 22, 64)        18496     \n",
      "_________________________________________________________________\n",
      "max_pooling2d_6 (MaxPooling2 (None, 22, 22, 64)        0         \n",
      "_________________________________________________________________\n",
      "batch_normalization_8 (Batch (None, 22, 22, 64)        256       \n",
      "_________________________________________________________________\n",
      "dropout_10 (Dropout)         (None, 22, 22, 64)        0         \n",
      "_________________________________________________________________\n",
      "conv2d_11 (Conv2D)           (None, 18, 18, 96)        153696    \n",
      "_________________________________________________________________\n",
      "max_pooling2d_7 (MaxPooling2 (None, 18, 18, 96)        0         \n",
      "_________________________________________________________________\n",
      "batch_normalization_9 (Batch (None, 18, 18, 96)        384       \n",
      "_________________________________________________________________\n",
      "dropout_11 (Dropout)         (None, 18, 18, 96)        0         \n",
      "_________________________________________________________________\n",
      "conv2d_12 (Conv2D)           (None, 14, 14, 128)       307328    \n",
      "_________________________________________________________________\n",
      "max_pooling2d_8 (MaxPooling2 (None, 7, 7, 128)         0         \n",
      "_________________________________________________________________\n",
      "batch_normalization_10 (Batc (None, 7, 7, 128)         512       \n",
      "_________________________________________________________________\n",
      "dropout_12 (Dropout)         (None, 7, 7, 128)         0         \n",
      "_________________________________________________________________\n",
      "conv2d_13 (Conv2D)           (None, 3, 3, 160)         512160    \n",
      "_________________________________________________________________\n",
      "max_pooling2d_9 (MaxPooling2 (None, 1, 1, 160)         0         \n",
      "_________________________________________________________________\n",
      "batch_normalization_11 (Batc (None, 1, 1, 160)         640       \n",
      "_________________________________________________________________\n",
      "dropout_13 (Dropout)         (None, 1, 1, 160)         0         \n",
      "_________________________________________________________________\n",
      "flatten_3 (Flatten)          (None, 160)               0         \n",
      "_________________________________________________________________\n",
      "dense_6 (Dense)              (None, 256)               41216     \n",
      "_________________________________________________________________\n",
      "batch_normalization_12 (Batc (None, 256)               1024      \n",
      "_________________________________________________________________\n",
      "dropout_14 (Dropout)         (None, 256)               0         \n",
      "_________________________________________________________________\n",
      "dense_7 (Dense)              (None, 128)               32896     \n",
      "_________________________________________________________________\n",
      "dropout_15 (Dropout)         (None, 128)               0         \n",
      "_________________________________________________________________\n",
      "dense_8 (Dense)              (None, 10)                1290      \n",
      "=================================================================\n",
      "Total params: 1,074,890\n",
      "Trainable params: 1,073,386\n",
      "Non-trainable params: 1,504\n",
      "_________________________________________________________________\n",
      "None\n"
     ]
    }
   ],
   "source": [
    "#arch 3\n",
    "#building a 7 layer of Conv2d ,7 layers of maxpooling and 2 dense layers\n",
    "\n",
    "model = Sequential()\n",
    "\n",
    "model.add(Conv2D(16,kernel_size = 3,activation = 'relu',kernel_initializer = he_normal(seed = None),input_shape = input_shape))\n",
    "model.add(MaxPooling2D(1,1))\n",
    "model.add(BatchNormalization())\n",
    "model.add(Dropout(0.5))\n",
    "\n",
    "\n",
    "model.add(Conv2D(32,kernel_size = 3,activation = 'relu',kernel_initializer = he_normal(seed = None)))\n",
    "model.add(MaxPooling2D(1,1))\n",
    "model.add(BatchNormalization())\n",
    "model.add(Dropout(0.5))\n",
    "\n",
    "\n",
    "model.add(Conv2D(64,kernel_size = 3,activation = 'relu',kernel_initializer = he_normal(seed = None)))\n",
    "model.add(MaxPooling2D(1,1))\n",
    "model.add(BatchNormalization())\n",
    "model.add(Dropout(0.5))\n",
    "\n",
    "\n",
    "model.add(Conv2D(96,kernel_size = 5,activation = 'relu',kernel_initializer = he_normal(seed = None)))\n",
    "model.add(MaxPooling2D(1,1))\n",
    "model.add(BatchNormalization())\n",
    "model.add(Dropout(0.3))\n",
    "\n",
    "\n",
    "\n",
    "\n",
    "model.add(Conv2D(128,kernel_size = 5,activation = 'relu',kernel_initializer = he_normal(seed = None)))\n",
    "model.add(MaxPooling2D(2,2))\n",
    "model.add(BatchNormalization())\n",
    "model.add(Dropout(0.3))\n",
    "\n",
    "\n",
    "model.add(Conv2D(160,kernel_size = 5,activation = 'relu',kernel_initializer = he_normal(seed = None)))\n",
    "model.add(MaxPooling2D(2,2))\n",
    "model.add(BatchNormalization())\n",
    "model.add(Dropout(0.3))\n",
    "\n",
    "\n",
    "\n",
    "#flattening adn adding another 2 dense layers with relu activation\n",
    "model.add(Flatten())\n",
    "model.add(Dense(256,activation = 'relu',kernel_initializer = he_normal(seed = None)))\n",
    "model.add(BatchNormalization())\n",
    "model.add(Dropout(0.3))\n",
    "\n",
    "\n",
    "model.add(Dense(128,activation = 'relu',kernel_initializer = he_normal(seed = None)))\n",
    "model.add(Dropout(0.3))\n",
    "\n",
    "\n",
    "#output layer\n",
    "model.add(Dense(10,activation = 'softmax'))\n",
    "\n",
    "print(model.summary())"
   ]
  },
  {
   "cell_type": "code",
   "execution_count": 21,
   "metadata": {
    "colab": {
     "base_uri": "https://localhost:8080/",
     "height": 706
    },
    "colab_type": "code",
    "id": "e5gYkYgZZBRL",
    "outputId": "7bceb725-4b1b-4149-9b1b-619697c354eb"
   },
   "outputs": [
    {
     "name": "stdout",
     "output_type": "stream",
     "text": [
      "Train on 60000 samples, validate on 10000 samples\n",
      "Epoch 1/20\n",
      "60000/60000 [==============================] - 22s 369us/step - loss: 0.5196 - acc: 0.8393 - val_loss: 0.0974 - val_acc: 0.9700\n",
      "Epoch 2/20\n",
      "60000/60000 [==============================] - 20s 329us/step - loss: 0.1517 - acc: 0.9543 - val_loss: 0.0607 - val_acc: 0.9809\n",
      "Epoch 3/20\n",
      "60000/60000 [==============================] - 19s 322us/step - loss: 0.1020 - acc: 0.9699 - val_loss: 0.0464 - val_acc: 0.9860\n",
      "Epoch 4/20\n",
      "60000/60000 [==============================] - 19s 321us/step - loss: 0.0813 - acc: 0.9758 - val_loss: 0.0377 - val_acc: 0.9884\n",
      "Epoch 5/20\n",
      "60000/60000 [==============================] - 19s 320us/step - loss: 0.0729 - acc: 0.9784 - val_loss: 0.0317 - val_acc: 0.9902\n",
      "Epoch 6/20\n",
      "60000/60000 [==============================] - 19s 322us/step - loss: 0.0626 - acc: 0.9813 - val_loss: 0.0366 - val_acc: 0.9888\n",
      "Epoch 7/20\n",
      "60000/60000 [==============================] - 19s 322us/step - loss: 0.0561 - acc: 0.9832 - val_loss: 0.0222 - val_acc: 0.9933\n",
      "Epoch 8/20\n",
      "60000/60000 [==============================] - 19s 320us/step - loss: 0.0527 - acc: 0.9846 - val_loss: 0.0366 - val_acc: 0.9906\n",
      "Epoch 9/20\n",
      "60000/60000 [==============================] - 19s 320us/step - loss: 0.0464 - acc: 0.9862 - val_loss: 0.0214 - val_acc: 0.9942\n",
      "Epoch 10/20\n",
      "60000/60000 [==============================] - 19s 320us/step - loss: 0.0458 - acc: 0.9866 - val_loss: 0.0254 - val_acc: 0.9932\n",
      "Epoch 11/20\n",
      "60000/60000 [==============================] - 19s 319us/step - loss: 0.0414 - acc: 0.9881 - val_loss: 0.0243 - val_acc: 0.9928\n",
      "Epoch 12/20\n",
      "60000/60000 [==============================] - 19s 320us/step - loss: 0.0386 - acc: 0.9885 - val_loss: 0.0292 - val_acc: 0.9919\n",
      "Epoch 13/20\n",
      "60000/60000 [==============================] - 19s 320us/step - loss: 0.0354 - acc: 0.9894 - val_loss: 0.0216 - val_acc: 0.9934\n",
      "Epoch 14/20\n",
      "60000/60000 [==============================] - 19s 319us/step - loss: 0.0350 - acc: 0.9893 - val_loss: 0.0235 - val_acc: 0.9933\n",
      "Epoch 15/20\n",
      "60000/60000 [==============================] - 19s 319us/step - loss: 0.0325 - acc: 0.9905 - val_loss: 0.0263 - val_acc: 0.9929\n",
      "Epoch 16/20\n",
      "60000/60000 [==============================] - 19s 319us/step - loss: 0.0290 - acc: 0.9911 - val_loss: 0.0216 - val_acc: 0.9937\n",
      "Epoch 17/20\n",
      "60000/60000 [==============================] - 19s 319us/step - loss: 0.0290 - acc: 0.9910 - val_loss: 0.0211 - val_acc: 0.9940\n",
      "Epoch 18/20\n",
      "60000/60000 [==============================] - 19s 321us/step - loss: 0.0277 - acc: 0.9914 - val_loss: 0.0239 - val_acc: 0.9931\n",
      "Epoch 19/20\n",
      "60000/60000 [==============================] - 19s 319us/step - loss: 0.0245 - acc: 0.9923 - val_loss: 0.0190 - val_acc: 0.9940\n",
      "Epoch 20/20\n",
      "60000/60000 [==============================] - 19s 319us/step - loss: 0.0268 - acc: 0.9919 - val_loss: 0.0227 - val_acc: 0.9938\n"
     ]
    }
   ],
   "source": [
    "#optimization for compilation\n",
    "\n",
    "model.compile(loss = 'categorical_crossentropy',optimizer = 'adam',metrics = ['accuracy'])\n",
    "history = model.fit(X_train,Y_train,batch_size = batch_size,epochs = epochs,validation_data = (X_test,Y_test),verbose = 1)"
   ]
  },
  {
   "cell_type": "code",
   "execution_count": 0,
   "metadata": {
    "colab": {},
    "colab_type": "code",
    "id": "DfmZjZakceru"
   },
   "outputs": [],
   "source": [
    "history3 = savetofile(history,'history3')\n",
    "model3 = savetofile(model,'model3')"
   ]
  },
  {
   "cell_type": "code",
   "execution_count": 23,
   "metadata": {
    "colab": {
     "base_uri": "https://localhost:8080/",
     "height": 67
    },
    "colab_type": "code",
    "id": "cRpWvnsxcLhl",
    "outputId": "20418c37-480d-49d2-fab0-d2b93be8a4ae"
   },
   "outputs": [
    {
     "name": "stdout",
     "output_type": "stream",
     "text": [
      "10000/10000 [==============================] - 1s 92us/step\n",
      "Loss on test data is 0.01964392685413427\n",
      "Accuracy on test data is 0.9951\n"
     ]
    }
   ],
   "source": [
    "model3 = openfromfile('model3')\n",
    "\n",
    "score_model3 = model1.evaluate(X_test,Y_test)\n",
    "print('Loss on test data is',score_model3[0])\n",
    "print('Accuracy on test data is',score_model3[1])"
   ]
  },
  {
   "cell_type": "code",
   "execution_count": 0,
   "metadata": {
    "colab": {},
    "colab_type": "code",
    "id": "VnJ6rKale6t2"
   },
   "outputs": [],
   "source": [
    "#plotting all the results\n",
    "def plots(model_h):\n",
    "\n",
    "\n",
    "  plt.figure(figsize = (20,15))\n",
    "  #plt.grid()\n",
    "  x = list(range(1,epochs+1))\n",
    "\n",
    "  #model loss\n",
    "  plt.subplot(2,2,1)\n",
    "  plt.title('MODEL LOSS')\n",
    "  plt.grid()\n",
    "  plt.plot(x,model_h.history['val_loss'],color = 'b',label = 'Validation Loss')\n",
    "  plt.plot(x,model_h.history['loss'],color = 'r',label = 'Training loss')\n",
    "  plt.xlabel('epochs')\n",
    "  plt.ylabel('Categorical cross entropy')\n",
    "  plt.legend()\n",
    "  \n",
    "  #model accuracy\n",
    "  plt.subplot(2,2,2)\n",
    "  plt.title('MODEL ACCURACY')\n",
    "  plt.grid()\n",
    "  plt.plot(x,model_h.history['acc'],color = 'b',label = 'Training accuracy')\n",
    "  plt.plot(x,model_h.history['val_acc'],color = 'r',label = 'Validation accuracy')\n",
    "  plt.xlabel('epochs')\n",
    "  plt.ylabel('Accuracy')\n",
    "  plt.legend()\n",
    "  plt.show()\n",
    "\n",
    "\n",
    "\n"
   ]
  },
  {
   "cell_type": "code",
   "execution_count": 25,
   "metadata": {
    "colab": {
     "base_uri": "https://localhost:8080/",
     "height": 466
    },
    "colab_type": "code",
    "id": "Ll0bTQ5nieer",
    "outputId": "27859422-2f9d-4342-864c-3c74a5453998"
   },
   "outputs": [
    {
     "name": "stdout",
     "output_type": "stream",
     "text": [
      "MODEL 1\n"
     ]
    },
    {
     "data": {
      "image/png": "[encoded data removed]",
      "text/plain": [
       "<Figure size 1440x1080 with 2 Axes>"
      ]
     },
     "metadata": {
      "tags": []
     },
     "output_type": "display_data"
    }
   ],
   "source": [
    "print('MODEL 1')\n",
    "history1 = openfromfile('history_1')\n",
    "plots(history1)"
   ]
  },
  {
   "cell_type": "code",
   "execution_count": 26,
   "metadata": {
    "colab": {
     "base_uri": "https://localhost:8080/",
     "height": 466
    },
    "colab_type": "code",
    "id": "8A2WoFxckCbW",
    "outputId": "d0ff9284-98a0-464b-91c9-cd863a0a5d3b"
   },
   "outputs": [
    {
     "name": "stdout",
     "output_type": "stream",
     "text": [
      "MODEL 2\n"
     ]
    },
    {
     "data": {
      "image/png": "[encoded data removed]",
      "text/plain": [
       "<Figure size 1440x1080 with 2 Axes>"
      ]
     },
     "metadata": {
      "tags": []
     },
     "output_type": "display_data"
    }
   ],
   "source": [
    "history2 = openfromfile('history2')\n",
    "print('MODEL 2')\n",
    "plots(history2)"
   ]
  },
  {
   "cell_type": "code",
   "execution_count": 27,
   "metadata": {
    "colab": {
     "base_uri": "https://localhost:8080/",
     "height": 466
    },
    "colab_type": "code",
    "id": "HpY4kypOkTbn",
    "outputId": "8c67fb84-e951-4248-a25e-b0a8075f14cc"
   },
   "outputs": [
    {
     "name": "stdout",
     "output_type": "stream",
     "text": [
      "MODEL 3\n"
     ]
    },
    {
     "data": {
      "image/png": "[encoded data removed]",
      "text/plain": [
       "<Figure size 1440x1080 with 2 Axes>"
      ]
     },
     "metadata": {
      "tags": []
     },
     "output_type": "display_data"
    }
   ],
   "source": [
    "history3 = openfromfile('history3')\n",
    "print('MODEL 3')\n",
    "plots(history3)"
   ]
  },
  {
   "cell_type": "markdown",
   "metadata": {},
   "source": [
    "## Best Model with Different parameters\n",
    "\n",
    "- In this section we will use 3 different models each one following the same architecture but with different tuned parameters"
   ]
  },
  {
   "cell_type": "markdown",
   "metadata": {},
   "source": [
    "## MODEL 1: Removing dropout and batchNormalization layers"
   ]
  },
  {
   "cell_type": "code",
   "execution_count": 28,
   "metadata": {
    "colab": {
     "base_uri": "https://localhost:8080/",
     "height": 1000
    },
    "colab_type": "code",
    "id": "Avef57MCg6zD",
    "outputId": "d7a3ed35-7618-4379-f15e-654418f7d47f"
   },
   "outputs": [
    {
     "name": "stdout",
     "output_type": "stream",
     "text": [
      "Model: \"sequential_4\"\n",
      "_________________________________________________________________\n",
      "Layer (type)                 Output Shape              Param #   \n",
      "=================================================================\n",
      "conv2d_14 (Conv2D)           (None, 26, 26, 32)        320       \n",
      "_________________________________________________________________\n",
      "conv2d_15 (Conv2D)           (None, 24, 24, 32)        9248      \n",
      "_________________________________________________________________\n",
      "max_pooling2d_10 (MaxPooling (None, 12, 12, 32)        0         \n",
      "_________________________________________________________________\n",
      "conv2d_16 (Conv2D)           (None, 11, 11, 64)        8256      \n",
      "_________________________________________________________________\n",
      "conv2d_17 (Conv2D)           (None, 10, 10, 64)        16448     \n",
      "_________________________________________________________________\n",
      "max_pooling2d_11 (MaxPooling (None, 5, 5, 64)          0         \n",
      "_________________________________________________________________\n",
      "conv2d_18 (Conv2D)           (None, 1, 1, 128)         204928    \n",
      "_________________________________________________________________\n",
      "flatten_4 (Flatten)          (None, 128)               0         \n",
      "_________________________________________________________________\n",
      "dense_9 (Dense)              (None, 256)               33024     \n",
      "_________________________________________________________________\n",
      "dense_10 (Dense)             (None, 128)               32896     \n",
      "_________________________________________________________________\n",
      "dense_11 (Dense)             (None, 10)                1290      \n",
      "=================================================================\n",
      "Total params: 306,410\n",
      "Trainable params: 306,410\n",
      "Non-trainable params: 0\n",
      "_________________________________________________________________\n",
      "None\n",
      "Train on 60000 samples, validate on 10000 samples\n",
      "Epoch 1/20\n",
      "60000/60000 [==============================] - 8s 134us/step - loss: 0.1402 - acc: 0.9563 - val_loss: 0.0402 - val_acc: 0.9872\n",
      "Epoch 2/20\n",
      "60000/60000 [==============================] - 5s 88us/step - loss: 0.0429 - acc: 0.9866 - val_loss: 0.0407 - val_acc: 0.9864\n",
      "Epoch 3/20\n",
      "60000/60000 [==============================] - 5s 87us/step - loss: 0.0314 - acc: 0.9903 - val_loss: 0.0309 - val_acc: 0.9906\n",
      "Epoch 4/20\n",
      "60000/60000 [==============================] - 5s 87us/step - loss: 0.0252 - acc: 0.9918 - val_loss: 0.0289 - val_acc: 0.9910\n",
      "Epoch 5/20\n",
      "60000/60000 [==============================] - 5s 87us/step - loss: 0.0193 - acc: 0.9943 - val_loss: 0.0281 - val_acc: 0.9916\n",
      "Epoch 6/20\n",
      "60000/60000 [==============================] - 5s 86us/step - loss: 0.0162 - acc: 0.9948 - val_loss: 0.0375 - val_acc: 0.9890\n",
      "Epoch 7/20\n",
      "60000/60000 [==============================] - 5s 86us/step - loss: 0.0141 - acc: 0.9957 - val_loss: 0.0271 - val_acc: 0.9914\n",
      "Epoch 8/20\n",
      "60000/60000 [==============================] - 5s 86us/step - loss: 0.0135 - acc: 0.9955 - val_loss: 0.0368 - val_acc: 0.9908\n",
      "Epoch 9/20\n",
      "60000/60000 [==============================] - 5s 87us/step - loss: 0.0108 - acc: 0.9963 - val_loss: 0.0273 - val_acc: 0.9919\n",
      "Epoch 10/20\n",
      "60000/60000 [==============================] - 5s 86us/step - loss: 0.0106 - acc: 0.9966 - val_loss: 0.0298 - val_acc: 0.9919\n",
      "Epoch 11/20\n",
      "60000/60000 [==============================] - 5s 86us/step - loss: 0.0092 - acc: 0.9972 - val_loss: 0.0363 - val_acc: 0.9895\n",
      "Epoch 12/20\n",
      "60000/60000 [==============================] - 5s 86us/step - loss: 0.0101 - acc: 0.9968 - val_loss: 0.0360 - val_acc: 0.9910\n",
      "Epoch 13/20\n",
      "60000/60000 [==============================] - 5s 85us/step - loss: 0.0080 - acc: 0.9975 - val_loss: 0.0318 - val_acc: 0.9914\n",
      "Epoch 14/20\n",
      "60000/60000 [==============================] - 5s 86us/step - loss: 0.0067 - acc: 0.9981 - val_loss: 0.0353 - val_acc: 0.9911\n",
      "Epoch 15/20\n",
      "60000/60000 [==============================] - 5s 85us/step - loss: 0.0066 - acc: 0.9980 - val_loss: 0.0276 - val_acc: 0.9927\n",
      "Epoch 16/20\n",
      "60000/60000 [==============================] - 5s 85us/step - loss: 0.0091 - acc: 0.9974 - val_loss: 0.0300 - val_acc: 0.9930\n",
      "Epoch 17/20\n",
      "60000/60000 [==============================] - 5s 86us/step - loss: 0.0053 - acc: 0.9984 - val_loss: 0.0463 - val_acc: 0.9887\n",
      "Epoch 18/20\n",
      "60000/60000 [==============================] - 5s 86us/step - loss: 0.0060 - acc: 0.9982 - val_loss: 0.0455 - val_acc: 0.9909\n",
      "Epoch 19/20\n",
      "60000/60000 [==============================] - 5s 85us/step - loss: 0.0071 - acc: 0.9980 - val_loss: 0.0380 - val_acc: 0.9922\n",
      "Epoch 20/20\n",
      "60000/60000 [==============================] - 5s 85us/step - loss: 0.0045 - acc: 0.9987 - val_loss: 0.0346 - val_acc: 0.9927\n"
     ]
    }
   ],
   "source": [
    "model = Sequential()\n",
    "\n",
    "#1st and 2nd layer with maxpooling layer\n",
    "model.add(Conv2D(32,kernel_size = 3,activation = 'relu',kernel_initializer = he_normal(seed = None),input_shape = input_shape))\n",
    "model.add(Conv2D(32,kernel_size = 3,activation = 'relu',kernel_initializer = he_normal(seed = None)))\n",
    "model.add(MaxPooling2D(2,2))\n",
    "\n",
    "\n",
    "#3rd and 4th layer with maxpooling layer\n",
    "model.add(Conv2D(64,kernel_size = 2,activation = 'relu',kernel_initializer = he_normal(seed = None)))\n",
    "model.add(Conv2D(64,kernel_size = 2,activation = 'relu',kernel_initializer = he_normal(seed = None)))\n",
    "model.add(MaxPooling2D(2,2))\n",
    "\n",
    "\n",
    "\n",
    "#5th layer\n",
    "model.add(Conv2D(128,kernel_size = 5,activation = 'relu',kernel_initializer = he_normal(seed = None)))\n",
    "\n",
    "\n",
    "#flattening adn adding another 2 dense layers with relu activation\n",
    "model.add(Flatten())\n",
    "model.add(Dense(256,activation = 'relu',kernel_initializer = he_normal(seed = None)))\n",
    "\n",
    "\n",
    "model.add(Dense(128,activation = 'relu',kernel_initializer = he_normal(seed = None)))\n",
    "\n",
    "\n",
    "#output layer\n",
    "model.add(Dense(10,activation = 'softmax'))\n",
    "\n",
    "print(model.summary())\n",
    "\n",
    "batch_size = 100\n",
    "epochs = 20\n",
    "\n",
    "model.compile(loss = 'categorical_crossentropy',optimizer = 'adam',metrics  = ['accuracy'])\n",
    "\n",
    "history = model.fit(X_train,Y_train,batch_size = batch_size,epochs = epochs,validation_data = [X_test,Y_test])\n"
   ]
  },
  {
   "cell_type": "code",
   "execution_count": 0,
   "metadata": {
    "colab": {},
    "colab_type": "code",
    "id": "0hsQ8d5ejqsL"
   },
   "outputs": [],
   "source": [
    "history_11 = savetofile(history,'history11')\n",
    "model_11 = savetofile(model,'model_11')"
   ]
  },
  {
   "cell_type": "markdown",
   "metadata": {
    "colab_type": "text",
    "id": "WC7nHzLij_0q"
   },
   "source": [
    "## MODEL2: Using Tanh activation function along with glorot normal weight initilization"
   ]
  },
  {
   "cell_type": "code",
   "execution_count": 30,
   "metadata": {
    "colab": {
     "base_uri": "https://localhost:8080/",
     "height": 1000
    },
    "colab_type": "code",
    "id": "WnfoRuoPjqXE",
    "outputId": "cd930fca-42d5-4e8f-8289-18117644ca43"
   },
   "outputs": [
    {
     "name": "stdout",
     "output_type": "stream",
     "text": [
      "Model: \"sequential_5\"\n",
      "_________________________________________________________________\n",
      "Layer (type)                 Output Shape              Param #   \n",
      "=================================================================\n",
      "conv2d_19 (Conv2D)           (None, 26, 26, 32)        320       \n",
      "_________________________________________________________________\n",
      "conv2d_20 (Conv2D)           (None, 24, 24, 32)        9248      \n",
      "_________________________________________________________________\n",
      "max_pooling2d_12 (MaxPooling (None, 12, 12, 32)        0         \n",
      "_________________________________________________________________\n",
      "batch_normalization_13 (Batc (None, 12, 12, 32)        128       \n",
      "_________________________________________________________________\n",
      "dropout_16 (Dropout)         (None, 12, 12, 32)        0         \n",
      "_________________________________________________________________\n",
      "conv2d_21 (Conv2D)           (None, 11, 11, 64)        8256      \n",
      "_________________________________________________________________\n",
      "conv2d_22 (Conv2D)           (None, 10, 10, 64)        16448     \n",
      "_________________________________________________________________\n",
      "max_pooling2d_13 (MaxPooling (None, 5, 5, 64)          0         \n",
      "_________________________________________________________________\n",
      "batch_normalization_14 (Batc (None, 5, 5, 64)          256       \n",
      "_________________________________________________________________\n",
      "dropout_17 (Dropout)         (None, 5, 5, 64)          0         \n",
      "_________________________________________________________________\n",
      "conv2d_23 (Conv2D)           (None, 1, 1, 128)         204928    \n",
      "_________________________________________________________________\n",
      "batch_normalization_15 (Batc (None, 1, 1, 128)         512       \n",
      "_________________________________________________________________\n",
      "dropout_18 (Dropout)         (None, 1, 1, 128)         0         \n",
      "_________________________________________________________________\n",
      "flatten_5 (Flatten)          (None, 128)               0         \n",
      "_________________________________________________________________\n",
      "dense_12 (Dense)             (None, 256)               33024     \n",
      "_________________________________________________________________\n",
      "dropout_19 (Dropout)         (None, 256)               0         \n",
      "_________________________________________________________________\n",
      "dense_13 (Dense)             (None, 128)               32896     \n",
      "_________________________________________________________________\n",
      "dropout_20 (Dropout)         (None, 128)               0         \n",
      "_________________________________________________________________\n",
      "dense_14 (Dense)             (None, 10)                1290      \n",
      "=================================================================\n",
      "Total params: 307,306\n",
      "Trainable params: 306,858\n",
      "Non-trainable params: 448\n",
      "_________________________________________________________________\n",
      "None\n",
      "Train on 60000 samples, validate on 10000 samples\n",
      "Epoch 1/20\n",
      "60000/60000 [==============================] - 10s 159us/step - loss: 0.3995 - acc: 0.8748 - val_loss: 0.2793 - val_acc: 0.9227\n",
      "Epoch 2/20\n",
      "60000/60000 [==============================] - 6s 104us/step - loss: 0.1660 - acc: 0.9508 - val_loss: 0.1027 - val_acc: 0.9703\n",
      "Epoch 3/20\n",
      "60000/60000 [==============================] - 6s 103us/step - loss: 0.1301 - acc: 0.9621 - val_loss: 0.0946 - val_acc: 0.9727\n",
      "Epoch 4/20\n",
      "60000/60000 [==============================] - 6s 104us/step - loss: 0.1192 - acc: 0.9655 - val_loss: 0.4779 - val_acc: 0.8763\n",
      "Epoch 5/20\n",
      "60000/60000 [==============================] - 6s 104us/step - loss: 0.1069 - acc: 0.9686 - val_loss: 0.1466 - val_acc: 0.9570\n",
      "Epoch 6/20\n",
      "60000/60000 [==============================] - 6s 104us/step - loss: 0.0999 - acc: 0.9712 - val_loss: 0.0786 - val_acc: 0.9771\n",
      "Epoch 7/20\n",
      "60000/60000 [==============================] - 6s 104us/step - loss: 0.0942 - acc: 0.9728 - val_loss: 0.0824 - val_acc: 0.9756\n",
      "Epoch 8/20\n",
      "60000/60000 [==============================] - 6s 102us/step - loss: 0.0954 - acc: 0.9719 - val_loss: 0.1230 - val_acc: 0.9637\n",
      "Epoch 9/20\n",
      "60000/60000 [==============================] - 6s 105us/step - loss: 0.0918 - acc: 0.9738 - val_loss: 0.1418 - val_acc: 0.9592\n",
      "Epoch 10/20\n",
      "60000/60000 [==============================] - 6s 104us/step - loss: 0.0879 - acc: 0.9741 - val_loss: 0.0620 - val_acc: 0.9812\n",
      "Epoch 11/20\n",
      "60000/60000 [==============================] - 6s 104us/step - loss: 0.0888 - acc: 0.9744 - val_loss: 0.0724 - val_acc: 0.9781\n",
      "Epoch 12/20\n",
      "60000/60000 [==============================] - 6s 103us/step - loss: 0.0839 - acc: 0.9761 - val_loss: 0.0610 - val_acc: 0.9833\n",
      "Epoch 13/20\n",
      "60000/60000 [==============================] - 6s 103us/step - loss: 0.0841 - acc: 0.9759 - val_loss: 0.0572 - val_acc: 0.9850\n",
      "Epoch 14/20\n",
      "60000/60000 [==============================] - 6s 103us/step - loss: 0.0838 - acc: 0.9760 - val_loss: 0.1263 - val_acc: 0.9610\n",
      "Epoch 15/20\n",
      "60000/60000 [==============================] - 6s 103us/step - loss: 0.0807 - acc: 0.9770 - val_loss: 0.0864 - val_acc: 0.9741\n",
      "Epoch 16/20\n",
      "60000/60000 [==============================] - 6s 103us/step - loss: 0.0776 - acc: 0.9777 - val_loss: 0.0649 - val_acc: 0.9821\n",
      "Epoch 17/20\n",
      "60000/60000 [==============================] - 6s 103us/step - loss: 0.0778 - acc: 0.9771 - val_loss: 0.0335 - val_acc: 0.9890\n",
      "Epoch 18/20\n",
      "60000/60000 [==============================] - 6s 103us/step - loss: 0.0774 - acc: 0.9781 - val_loss: 0.0395 - val_acc: 0.9875\n",
      "Epoch 19/20\n",
      "60000/60000 [==============================] - 6s 103us/step - loss: 0.0783 - acc: 0.9780 - val_loss: 0.0443 - val_acc: 0.9879\n",
      "Epoch 20/20\n",
      "60000/60000 [==============================] - 6s 102us/step - loss: 0.0761 - acc: 0.9783 - val_loss: 0.0354 - val_acc: 0.9903\n"
     ]
    }
   ],
   "source": [
    "#CNN with 5 layers\n",
    "from keras.initializers import glorot_normal\n",
    "\n",
    "model = Sequential()\n",
    "\n",
    "#1st and 2nd layer with maxpooling layer\n",
    "model.add(Conv2D(32,kernel_size = 3,activation = 'tanh',kernel_initializer = glorot_normal(seed = None),input_shape = input_shape))\n",
    "model.add(Conv2D(32,kernel_size = 3,activation = 'tanh',kernel_initializer = glorot_normal(seed = None)))\n",
    "model.add(MaxPooling2D(2,2))\n",
    "model.add(BatchNormalization())\n",
    "model.add(Dropout(0.5))\n",
    "\n",
    "#3rd and 4th layer with maxpooling layer\n",
    "model.add(Conv2D(64,kernel_size = 2,activation = 'tanh',kernel_initializer = glorot_normal(seed = None)))\n",
    "model.add(Conv2D(64,kernel_size = 2,activation = 'tanh',kernel_initializer = glorot_normal(seed = None)))\n",
    "model.add(MaxPooling2D(2,2))\n",
    "model.add(BatchNormalization())\n",
    "model.add(Dropout(0.5))\n",
    "\n",
    "\n",
    "#5th layer\n",
    "model.add(Conv2D(128,kernel_size = 5,activation = 'tanh',kernel_initializer = glorot_normal(seed = None)))\n",
    "model.add(BatchNormalization())\n",
    "model.add(Dropout(0.4))\n",
    "\n",
    "#flattening adn adding another 2 dense layers with relu activation\n",
    "model.add(Flatten())\n",
    "model.add(Dense(256,activation = 'tanh',kernel_initializer = glorot_normal(seed = None)))\n",
    "model.add(Dropout(0.4))\n",
    "\n",
    "\n",
    "model.add(Dense(128,activation = 'tanh',kernel_initializer = glorot_normal(seed = None)))\n",
    "model.add(Dropout(0.4))\n",
    "\n",
    "\n",
    "#output layer\n",
    "model.add(Dense(10,activation = 'softmax'))\n",
    "\n",
    "print(model.summary())\n",
    "\n",
    "\n",
    "model.compile(loss = 'categorical_crossentropy',optimizer = 'adam',metrics  = ['accuracy'])\n",
    "\n",
    "history = model.fit(X_train,Y_train,batch_size = batch_size,epochs = epochs,validation_data = [X_test,Y_test])\n",
    "\n",
    "\n",
    "\n"
   ]
  },
  {
   "cell_type": "code",
   "execution_count": 31,
   "metadata": {
    "colab": {
     "base_uri": "https://localhost:8080/",
     "height": 67
    },
    "colab_type": "code",
    "id": "J6DaOcXB1tEE",
    "outputId": "71891387-4191-4268-9657-430c2a8fbe23"
   },
   "outputs": [
    {
     "name": "stdout",
     "output_type": "stream",
     "text": [
      "10000/10000 [==============================] - 1s 77us/step\n",
      "Loss on test data is 0.03541449715318158\n",
      "Accuracy on test data is 0.9903\n"
     ]
    }
   ],
   "source": [
    "score = model.evaluate(X_test,Y_test)\n",
    "print('Loss on test data is',score[0])\n",
    "print('Accuracy on test data is',score[1])"
   ]
  },
  {
   "cell_type": "code",
   "execution_count": 0,
   "metadata": {
    "colab": {},
    "colab_type": "code",
    "id": "W1WfNJ_918to"
   },
   "outputs": [],
   "source": [
    "history_22 = savetofile(history,'history_22')\n",
    "model_22 = savetofile(model,'model_22')"
   ]
  },
  {
   "cell_type": "markdown",
   "metadata": {
    "colab_type": "text",
    "id": "Iw-MB2cMexG8"
   },
   "source": [
    "## MODEL 3: Using RMSPROP as optimizer"
   ]
  },
  {
   "cell_type": "code",
   "execution_count": 33,
   "metadata": {
    "colab": {
     "base_uri": "https://localhost:8080/",
     "height": 1000
    },
    "colab_type": "code",
    "id": "5bbmVU1xe0Gm",
    "outputId": "ed2d8db3-df38-42ff-ed07-2481a38970c5"
   },
   "outputs": [
    {
     "name": "stdout",
     "output_type": "stream",
     "text": [
      "Model: \"sequential_6\"\n",
      "_________________________________________________________________\n",
      "Layer (type)                 Output Shape              Param #   \n",
      "=================================================================\n",
      "conv2d_24 (Conv2D)           (None, 26, 26, 32)        320       \n",
      "_________________________________________________________________\n",
      "conv2d_25 (Conv2D)           (None, 24, 24, 32)        9248      \n",
      "_________________________________________________________________\n",
      "max_pooling2d_14 (MaxPooling (None, 12, 12, 32)        0         \n",
      "_________________________________________________________________\n",
      "batch_normalization_16 (Batc (None, 12, 12, 32)        128       \n",
      "_________________________________________________________________\n",
      "dropout_21 (Dropout)         (None, 12, 12, 32)        0         \n",
      "_________________________________________________________________\n",
      "conv2d_26 (Conv2D)           (None, 11, 11, 64)        8256      \n",
      "_________________________________________________________________\n",
      "conv2d_27 (Conv2D)           (None, 10, 10, 64)        16448     \n",
      "_________________________________________________________________\n",
      "max_pooling2d_15 (MaxPooling (None, 5, 5, 64)          0         \n",
      "_________________________________________________________________\n",
      "batch_normalization_17 (Batc (None, 5, 5, 64)          256       \n",
      "_________________________________________________________________\n",
      "dropout_22 (Dropout)         (None, 5, 5, 64)          0         \n",
      "_________________________________________________________________\n",
      "conv2d_28 (Conv2D)           (None, 1, 1, 128)         204928    \n",
      "_________________________________________________________________\n",
      "batch_normalization_18 (Batc (None, 1, 1, 128)         512       \n",
      "_________________________________________________________________\n",
      "dropout_23 (Dropout)         (None, 1, 1, 128)         0         \n",
      "_________________________________________________________________\n",
      "flatten_6 (Flatten)          (None, 128)               0         \n",
      "_________________________________________________________________\n",
      "dense_15 (Dense)             (None, 256)               33024     \n",
      "_________________________________________________________________\n",
      "dropout_24 (Dropout)         (None, 256)               0         \n",
      "_________________________________________________________________\n",
      "dense_16 (Dense)             (None, 128)               32896     \n",
      "_________________________________________________________________\n",
      "dropout_25 (Dropout)         (None, 128)               0         \n",
      "_________________________________________________________________\n",
      "dense_17 (Dense)             (None, 10)                1290      \n",
      "=================================================================\n",
      "Total params: 307,306\n",
      "Trainable params: 306,858\n",
      "Non-trainable params: 448\n",
      "_________________________________________________________________\n",
      "None\n",
      "Train on 60000 samples, validate on 10000 samples\n",
      "Epoch 1/20\n",
      "60000/60000 [==============================] - 9s 157us/step - loss: 0.5762 - acc: 0.8275 - val_loss: 0.1235 - val_acc: 0.9669\n",
      "Epoch 2/20\n",
      "60000/60000 [==============================] - 6s 100us/step - loss: 0.1622 - acc: 0.9568 - val_loss: 0.0620 - val_acc: 0.9814\n",
      "Epoch 3/20\n",
      "60000/60000 [==============================] - 6s 100us/step - loss: 0.1273 - acc: 0.9667 - val_loss: 0.0445 - val_acc: 0.9880\n",
      "Epoch 4/20\n",
      "60000/60000 [==============================] - 6s 100us/step - loss: 0.1194 - acc: 0.9708 - val_loss: 0.0449 - val_acc: 0.9869\n",
      "Epoch 5/20\n",
      "60000/60000 [==============================] - 6s 104us/step - loss: 0.1043 - acc: 0.9740 - val_loss: 0.0541 - val_acc: 0.9881\n",
      "Epoch 6/20\n",
      "60000/60000 [==============================] - 6s 103us/step - loss: 0.1003 - acc: 0.9760 - val_loss: 0.0368 - val_acc: 0.9913\n",
      "Epoch 7/20\n",
      "60000/60000 [==============================] - 6s 100us/step - loss: 0.1030 - acc: 0.9761 - val_loss: 0.0338 - val_acc: 0.9910\n",
      "Epoch 8/20\n",
      "60000/60000 [==============================] - 6s 100us/step - loss: 0.0971 - acc: 0.9776 - val_loss: 0.0399 - val_acc: 0.9903\n",
      "Epoch 9/20\n",
      "60000/60000 [==============================] - 6s 100us/step - loss: 0.0977 - acc: 0.9786 - val_loss: 0.0408 - val_acc: 0.9903\n",
      "Epoch 10/20\n",
      "60000/60000 [==============================] - 6s 99us/step - loss: 0.0964 - acc: 0.9787 - val_loss: 0.0398 - val_acc: 0.9912\n",
      "Epoch 11/20\n",
      "60000/60000 [==============================] - 6s 99us/step - loss: 0.0967 - acc: 0.9796 - val_loss: 0.0368 - val_acc: 0.9927\n",
      "Epoch 12/20\n",
      "60000/60000 [==============================] - 6s 100us/step - loss: 0.0964 - acc: 0.9797 - val_loss: 0.0406 - val_acc: 0.9915\n",
      "Epoch 13/20\n",
      "60000/60000 [==============================] - 6s 100us/step - loss: 0.0951 - acc: 0.9804 - val_loss: 0.0447 - val_acc: 0.9907\n",
      "Epoch 14/20\n",
      "60000/60000 [==============================] - 6s 100us/step - loss: 0.0940 - acc: 0.9805 - val_loss: 0.0401 - val_acc: 0.9911\n",
      "Epoch 15/20\n",
      "60000/60000 [==============================] - 6s 100us/step - loss: 0.0939 - acc: 0.9803 - val_loss: 0.0366 - val_acc: 0.9921\n",
      "Epoch 16/20\n",
      "60000/60000 [==============================] - 6s 99us/step - loss: 0.0875 - acc: 0.9820 - val_loss: 0.0363 - val_acc: 0.9923\n",
      "Epoch 17/20\n",
      "60000/60000 [==============================] - 6s 100us/step - loss: 0.0978 - acc: 0.9809 - val_loss: 0.0464 - val_acc: 0.9903\n",
      "Epoch 18/20\n",
      "60000/60000 [==============================] - 6s 101us/step - loss: 0.0975 - acc: 0.9815 - val_loss: 0.0497 - val_acc: 0.9909\n",
      "Epoch 19/20\n",
      "60000/60000 [==============================] - 6s 101us/step - loss: 0.0921 - acc: 0.9816 - val_loss: 0.0516 - val_acc: 0.9894\n",
      "Epoch 20/20\n",
      "60000/60000 [==============================] - 6s 100us/step - loss: 0.0919 - acc: 0.9821 - val_loss: 0.0466 - val_acc: 0.9907\n"
     ]
    }
   ],
   "source": [
    "from keras.optimizers import RMSprop\n",
    "\n",
    "#CNN with 5 layers\n",
    "\n",
    "model = Sequential()\n",
    "\n",
    "#1st and 2nd layer with maxpooling layer\n",
    "model.add(Conv2D(32,kernel_size = 3,activation = 'relu',kernel_initializer = he_normal(seed = None),input_shape = input_shape))\n",
    "model.add(Conv2D(32,kernel_size = 3,activation = 'relu',kernel_initializer = he_normal(seed = None)))\n",
    "model.add(MaxPooling2D(2,2))\n",
    "model.add(BatchNormalization())\n",
    "model.add(Dropout(0.5))\n",
    "\n",
    "#3rd and 4th layer with maxpooling layer\n",
    "model.add(Conv2D(64,kernel_size = 2,activation = 'relu',kernel_initializer = he_normal(seed = None)))\n",
    "model.add(Conv2D(64,kernel_size = 2,activation = 'relu',kernel_initializer = he_normal(seed = None)))\n",
    "model.add(MaxPooling2D(2,2))\n",
    "model.add(BatchNormalization())\n",
    "model.add(Dropout(0.5))\n",
    "\n",
    "\n",
    "#5th layer\n",
    "model.add(Conv2D(128,kernel_size = 5,activation = 'relu',kernel_initializer = he_normal(seed = None)))\n",
    "model.add(BatchNormalization())\n",
    "model.add(Dropout(0.4))\n",
    "\n",
    "#flattening adn adding another 2 dense layers with relu activation\n",
    "model.add(Flatten())\n",
    "model.add(Dense(256,activation = 'relu',kernel_initializer = he_normal(seed = None)))\n",
    "model.add(Dropout(0.4))\n",
    "\n",
    "\n",
    "model.add(Dense(128,activation = 'relu',kernel_initializer = he_normal(seed = None)))\n",
    "model.add(Dropout(0.4))\n",
    "\n",
    "\n",
    "#output layer\n",
    "model.add(Dense(10,activation = 'softmax'))\n",
    "\n",
    "print(model.summary())\n",
    "\n",
    "model.compile(loss = 'categorical_crossentropy',optimizer = 'RMSProp',metrics  = ['accuracy'])\n",
    "\n",
    "history = model.fit(X_train,Y_train,batch_size = batch_size,epochs = epochs,validation_data = [X_test,Y_test])\n"
   ]
  },
  {
   "cell_type": "code",
   "execution_count": 34,
   "metadata": {
    "colab": {
     "base_uri": "https://localhost:8080/",
     "height": 67
    },
    "colab_type": "code",
    "id": "tryZ-rSghYac",
    "outputId": "710a8d6b-5522-4b24-f8ac-4fb674089871"
   },
   "outputs": [
    {
     "name": "stdout",
     "output_type": "stream",
     "text": [
      "10000/10000 [==============================] - 1s 78us/step\n",
      "loss on test data is:  0.046560718773310396\n",
      "Accuracy on test data is: 0.9907\n"
     ]
    }
   ],
   "source": [
    "score = model.evaluate(X_test,Y_test)\n",
    "print('loss on test data is: ',score[0])\n",
    "print('Accuracy on test data is:',score[1])\n",
    "\n",
    "history_33 = savetofile(history,'history_33')\n",
    "model_33 = savetofile(model,'model33')"
   ]
  },
  {
   "cell_type": "code",
   "execution_count": 0,
   "metadata": {
    "colab": {},
    "colab_type": "code",
    "id": "KlvHckbbF4XX"
   },
   "outputs": [],
   "source": [
    "def diff_ops(model_h,text):\n",
    "\n",
    "  x = list(range(1,(epochs)+1))#definig the bin size on the x axis as we want to plot for each of the epochs\n",
    "  plt.figure(figsize = (18,6))\n",
    "  plt.grid()\n",
    "  plt.plot(x,model_h.history['val_loss'],'b',label = 'Test loss')\n",
    "  plt.plot(x,model_h.history['loss'],'r',label = 'Training Loss')\n",
    "  plt.xlabel('Epochs')\n",
    "  plt.ylabel('Categorical Cross Entropy')\n",
    "  plt.title(text)\n",
    "  plt.legend(loc = 'best')\n",
    "  plt.show()"
   ]
  },
  {
   "cell_type": "code",
   "execution_count": 36,
   "metadata": {
    "colab": {
     "base_uri": "https://localhost:8080/",
     "height": 404
    },
    "colab_type": "code",
    "id": "if07KUfrVJOX",
    "outputId": "e9201a50-4a1d-483d-d35e-717f88bfd195"
   },
   "outputs": [
    {
     "data": {
      "image/png": "[encoded data removed]",
      "text/plain": [
       "<Figure size 1296x432 with 1 Axes>"
      ]
     },
     "metadata": {
      "tags": []
     },
     "output_type": "display_data"
    }
   ],
   "source": [
    "text = 'Model_2 Without BatchNormalization and Dropout'\n",
    "diff_ops(openfromfile('history11'),text)\n"
   ]
  },
  {
   "cell_type": "markdown",
   "metadata": {
    "colab_type": "text",
    "id": "uw53dqHGXjRz"
   },
   "source": [
    "We removed the BatchNormalization layer and the Dropout layers for the best performing model,so as to experiment with overfitting of the model.As it can be clearly seen that model leraned well on the training data ,but performing generalization by this model was not as easy task.Though it gives an accuracy of 99.13 % on test data becuase of low complexity and unsophisticated MNIST data,but it can be clearly observed that the loss is fluctuating with each epoch like an unsmoothed sinusoidal wave."
   ]
  },
  {
   "cell_type": "code",
   "execution_count": 37,
   "metadata": {
    "colab": {
     "base_uri": "https://localhost:8080/",
     "height": 404
    },
    "colab_type": "code",
    "id": "QOypw7NvY_CK",
    "outputId": "2ace422c-5dad-49c7-8613-880e6e819e1d"
   },
   "outputs": [
    {
     "data": {
      "image/png": "[encoded data removed]",
      "text/plain": [
       "<Figure size 1296x432 with 1 Axes>"
      ]
     },
     "metadata": {
      "tags": []
     },
     "output_type": "display_data"
    }
   ],
   "source": [
    "#plot_2\n",
    "text = 'Model_2 with Tanh activation and glorot Normal weight initialization'\n",
    "diff_ops(openfromfile('history_22'),text)"
   ]
  },
  {
   "cell_type": "markdown",
   "metadata": {
    "colab_type": "text",
    "id": "eT_gfN6taF5a"
   },
   "source": [
    "from the above graph we can clearly observe that using a different activation function 'Tanh' and initializing the weights using glorot deacreased the accuracy by 1%,though surprisingly the model performed better on test data than the train data after few initial epochs i.e generalization accuracy comes to be higher and loss lower in this case.\n",
    "Sudden increase in the loss around 3rd epoch can be undertood from the concept of vanishing gradients."
   ]
  },
  {
   "cell_type": "code",
   "execution_count": 38,
   "metadata": {
    "colab": {
     "base_uri": "https://localhost:8080/",
     "height": 404
    },
    "colab_type": "code",
    "id": "4rBz_rF1bcR1",
    "outputId": "f1f94738-7722-4c38-c80f-39b92c22201c"
   },
   "outputs": [
    {
     "data": {
      "image/png": "[encoded data removed]",
      "text/plain": [
       "<Figure size 1296x432 with 1 Axes>"
      ]
     },
     "metadata": {
      "tags": []
     },
     "output_type": "display_data"
    }
   ],
   "source": [
    "text = 'Model_2 with RMSprop as optimizer'\n",
    "diff_ops(openfromfile('history_33'),text)"
   ]
  },
  {
   "cell_type": "markdown",
   "metadata": {
    "colab_type": "text",
    "id": "XKxkirETb82_"
   },
   "source": [
    "Here we see that using RMSProp as the optimizer instead of Adam has no significant impact,the accuracy on test is more or less same,also the execution time on test data is also same.As the data we are using is trivial ,that's why RMSProp also converges fastly."
   ]
  },
  {
   "cell_type": "markdown",
   "metadata": {},
   "source": [
    "# Conclusion"
   ]
  },
  {
   "cell_type": "code",
   "execution_count": 41,
   "metadata": {
    "colab": {
     "base_uri": "https://localhost:8080/",
     "height": 420
    },
    "colab_type": "code",
    "id": "vu_2WJhEkmlP",
    "outputId": "df3e9966-f1b3-4562-ddc5-01554c516f3b"
   },
   "outputs": [
    {
     "name": "stdout",
     "output_type": "stream",
     "text": [
      "\t\t\t\t\t\t\t\t 3 Different CNN architectures\n",
      "+-------------------------------------------------------------------+----------------------+----------------------+----------------------+------------------+\n",
      "|                               Model                               |     trainig loss     | Training Accuracy(%) |      Test loss       | Test_Accuracy(%) |\n",
      "+-------------------------------------------------------------------+----------------------+----------------------+----------------------+------------------+\n",
      "|  2 Convolution layers + 1 pooling layer  + 1 Dense layer + Adam   | 0.009973527063508906 |  0.9967000031471253  | 0.01964392685413427  |      0.9951      |\n",
      "|   5 Convolution layers + 2 pooling layer + 2 Dense Layers +Adam   | 0.04901980113451524  |  0.9867000102003416  | 0.023159436680417637 |      0.9937      |\n",
      "| 6 Convolution layers + 1 6 pooling layers + 2 Dense Layers + Adam |  0.0268287254908743  |  0.9918500073750813  | 0.01964392685413427  |      0.9951      |\n",
      "+-------------------------------------------------------------------+----------------------+----------------------+----------------------+------------------+\n",
      "\n",
      "\n",
      "\n",
      "\n",
      "\t\t\t\t\t\t\t\t Different output of best performing model\n",
      "+--------------------------------------------------------------------------+----------------------+----------------------+----------------------+------------------+\n",
      "|                                  Model                                   |     trainig loss     | Training Accuracy(%) |      Test loss       | Test_Accuracy(%) |\n",
      "+--------------------------------------------------------------------------+----------------------+----------------------+----------------------+------------------+\n",
      "|              Model_2 without BatchNormalization and Dropout              | 0.004473916407167261 |  0.9987166678905487  | 0.03456393923192763  |      0.9927      |\n",
      "| Model_2 with using Tanh activation and glorot normal weight initializer  |  0.0761473451834172  |  0.9782833438118299  | 0.03541449715318158  |      0.9903      |\n",
      "|                      Model_2 with RMSProp optimizer                      | 0.09186855908615446  |  0.9820500112573306  | 0.046560718773310396 |      0.9907      |\n",
      "+--------------------------------------------------------------------------+----------------------+----------------------+----------------------+------------------+\n",
      "\n",
      "\n",
      "\n",
      "\n"
     ]
    }
   ],
   "source": [
    "\n",
    "from prettytable import PrettyTable\n",
    "\n",
    "table_arch1 = PrettyTable()\n",
    "models = ['2 Convolution layers + 1 pooling layer  + 1 Dense layer + Adam ','5 Convolution layers + 2 pooling layer + 2 Dense Layers +Adam ',\\\n",
    "          '6 Convolution layers + 1 6 pooling layers + 2 Dense Layers + Adam']\n",
    "tr_loss = [history1.history['loss'][19],history2.history['loss'][19],history3.history['loss'][19]]\n",
    "tr_acc = [history1.history['acc'][19],history2.history['acc'][19],history3.history['acc'][19]]\n",
    "te_loss = [score_model1[0],score_model2[0],score_model3[0]]\n",
    "te_acc = [score_model1[1],score_model2[1],score_model3[1]]\n",
    "\n",
    "table_arch1.add_column('Model',models)\n",
    "table_arch1.add_column('trainig loss',tr_loss)\n",
    "table_arch1.add_column('Training Accuracy(%)',tr_acc)\n",
    "table_arch1.add_column('Test loss',te_loss)\n",
    "table_arch1.add_column('Test_Accuracy(%)',te_acc)\n",
    "print('\\t\\t\\t\\t\\t\\t\\t\\t 3 Different CNN architectures')\n",
    "print(table_arch1)\n",
    "print('\\n\\n\\n')\n",
    "\n",
    "\n",
    "#table after tuning the best performing model\n",
    "\n",
    "score_model11 = openfromfile('model_11').evaluate(X_test,Y_test,verbose = 0)\n",
    "score_model22 = openfromfile('model_22').evaluate(X_test,Y_test,verbose = 0)\n",
    "score_model33 = openfromfile('model33').evaluate(X_test,Y_test,verbose = 0)\n",
    "\n",
    "table_arch2 = PrettyTable()\n",
    "models = ['Model_2 without BatchNormalization and Dropout','Model_2 with using Tanh activation and glorot normal weight initializer ',\\\n",
    "          'Model_2 with RMSProp optimizer']\n",
    "tr_loss = [openfromfile('history11').history['loss'][19],openfromfile('history_22').history['loss'][19],openfromfile('history_33').history['loss'][19]]\n",
    "tr_acc = [openfromfile('history11').history['acc'][19],openfromfile('history_22').history['acc'][19],openfromfile('history_33').history['acc'][19]]\n",
    "te_loss = [score_model11[0],score_model22[0],score_model33[0]]\n",
    "te_acc = [score_model11[1],score_model22[1],score_model33[1]]\n",
    "\n",
    "table_arch2.add_column('Model',models)\n",
    "table_arch2.add_column('trainig loss',tr_loss)\n",
    "table_arch2.add_column('Training Accuracy(%)',tr_acc)\n",
    "table_arch2.add_column('Test loss',te_loss)\n",
    "table_arch2.add_column('Test_Accuracy(%)',te_acc)\n",
    "print('\\t\\t\\t\\t\\t\\t\\t\\t Different output of best performing model')\n",
    "print(table_arch2)\n",
    "print('\\n\\n\\n')\n",
    "\n",
    "\n",
    "\n"
   ]
  },
  {
   "cell_type": "markdown",
   "metadata": {
    "colab_type": "text",
    "id": "DOWojguwo5EP"
   },
   "source": [
    "#observation\n",
    "A 10 layer CNN which consists of 5 Convolutional layers and 2 maxpooling layers and Dense layers with relu activation and a final softmax output layer  gives us the best accuracy of 99.5% on test data and a test loss of 0.018 .BatchNormalization and Dropout rate helps us in avoiding overfitting in such a complex architecture.This also gives us insight of how we can further tune the\n",
    "dropout rates kernel sizes and  model with 7 Convolutional layers which is our 3rd model with.We also tried the GridSearch Cross validation on our first model with different kernel sizes,though it increases the training time by huge margin.A subsequent tuning may result in less time complexity\n",
    "\n",
    "We also observe that removing BatchNormalization and dropout layers from the best performing model leads to overffitting and slow convergence by the model.using Tanh activation and glorot normal weight initialization decreases the accuracy by 1% to 98% where on an average we were getting the accuracy of 99%,which shos that how significant activation function is while initializing the model.RMSprop instead of AdamOptimizer does not have any major impact,and everything remains same more or less."
   ]
  }
 ],
 "metadata": {
  "accelerator": "GPU",
  "colab": {
   "name": "CNN_ARCHITECTURES_MNIST.ipynb",
   "provenance": [],
   "version": "0.3.2"
  },
  "kernelspec": {
   "display_name": "Python 3",
   "language": "python",
   "name": "python3"
  },
  "language_info": {
   "codemirror_mode": {
    "name": "ipython",
    "version": 3
   },
   "file_extension": ".py",
   "mimetype": "text/x-python",
   "name": "python",
   "nbconvert_exporter": "python",
   "pygments_lexer": "ipython3",
   "version": "3.6.5"
  }
 },
 "nbformat": 4,
 "nbformat_minor": 1
}
